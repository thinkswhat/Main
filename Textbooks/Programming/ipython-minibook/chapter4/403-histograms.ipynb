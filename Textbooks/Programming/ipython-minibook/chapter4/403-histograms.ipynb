{
 "metadata": {
  "name": "9932_04_03"
 },
 "nbformat": 3,
 "nbformat_minor": 0,
 "worksheets": [
  {
   "cells": [
    {
     "cell_type": "markdown",
     "metadata": {},
     "source": [
      "Chapter 4, example 3\n",
      "====================\n",
      "\n",
      "In this example, we plot a histogram of the nodes degrees in the Facebook social graphs."
     ]
    },
    {
     "cell_type": "code",
     "collapsed": false,
     "input": [
      "cd fbdata"
     ],
     "language": "python",
     "metadata": {},
     "outputs": [
      {
       "output_type": "stream",
       "stream": "stdout",
       "text": [
        "(bookmark:fbdata) -> chapter2\\data\\facebook\n",
        "chapter2\\data\\facebook\n"
       ]
      }
     ],
     "prompt_number": 1
    },
    {
     "cell_type": "code",
     "collapsed": false,
     "input": [
      "import networkx as nx"
     ],
     "language": "python",
     "metadata": {},
     "outputs": [],
     "prompt_number": 2
    },
    {
     "cell_type": "markdown",
     "metadata": {},
     "source": [
      "We open a `edge` file with a social graph."
     ]
    },
    {
     "cell_type": "code",
     "collapsed": false,
     "input": [
      "g = nx.read_edgelist('0.edges')"
     ],
     "language": "python",
     "metadata": {},
     "outputs": [],
     "prompt_number": 3
    },
    {
     "cell_type": "markdown",
     "metadata": {},
     "source": [
      "The `hist` function plots a histogram of an array of values."
     ]
    },
    {
     "cell_type": "code",
     "collapsed": false,
     "input": [
      "hist(g.degree().values(), bins=20);"
     ],
     "language": "python",
     "metadata": {},
     "outputs": [
      {
       "output_type": "display_data",
       "png": "[encoded data removed]"
      }
     ],
     "prompt_number": 4
    }
   ],
   "metadata": {}
  }
 ]
}