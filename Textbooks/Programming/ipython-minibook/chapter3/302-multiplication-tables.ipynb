{
 "metadata": {
  "name": "9932_03_02"
 },
 "nbformat": 3,
 "nbformat_minor": 0,
 "worksheets": [
  {
   "cells": [
    {
     "cell_type": "markdown",
     "metadata": {},
     "source": [
      "Chapter 3, example 2\n",
      "====================\n",
      "\n",
      "This example shows three different ways of creating multiplication tables:\n",
      "\n",
      "  * one method in pure Python,\n",
      "  * one method using NumPy,\n",
      "  * one optimized method using NumPy."
     ]
    },
    {
     "cell_type": "markdown",
     "metadata": {},
     "source": [
      "## Version 1: Pure Python version\n",
      "\n",
      "This version uses list comprehensions."
     ]
    },
    {
     "cell_type": "code",
     "collapsed": false,
     "input": [
      "def mul1(n):\n",
      "    return array([[(i + 1) * (j + 1) for i in xrange(n)] for j in xrange(n)])"
     ],
     "language": "python",
     "metadata": {},
     "outputs": [],
     "prompt_number": 1
    },
    {
     "cell_type": "code",
     "collapsed": false,
     "input": [
      "mul1(4)"
     ],
     "language": "python",
     "metadata": {},
     "outputs": [
      {
       "output_type": "pyout",
       "prompt_number": 2,
       "text": [
        "array([[ 1,  2,  3,  4],\n",
        "       [ 2,  4,  6,  8],\n",
        "       [ 3,  6,  9, 12],\n",
        "       [ 4,  8, 12, 16]])"
       ]
      }
     ],
     "prompt_number": 2
    },
    {
     "cell_type": "code",
     "collapsed": false,
     "input": [
      "timeit mul1(100)"
     ],
     "language": "python",
     "metadata": {},
     "outputs": [
      {
       "output_type": "stream",
       "stream": "stdout",
       "text": [
        "100 loops, best of 3: 5.24 ms per loop\n"
       ]
      }
     ],
     "prompt_number": 3
    },
    {
     "cell_type": "markdown",
     "metadata": {},
     "source": [
      "## Version 2: NumPy version\n",
      "\n",
      "This version uses array manipulation and operations."
     ]
    },
    {
     "cell_type": "code",
     "collapsed": false,
     "input": [
      "def mul2(n):\n",
      "    M = arange(1, n + 1).reshape((-1, 1))\n",
      "    M = tile(M, (1, n))\n",
      "    N = arange(1, n + 1).reshape((1, -1))\n",
      "    N = tile(N, (n, 1))\n",
      "    return M * N"
     ],
     "language": "python",
     "metadata": {},
     "outputs": [],
     "prompt_number": 4
    },
    {
     "cell_type": "code",
     "collapsed": false,
     "input": [
      "mul2(4)"
     ],
     "language": "python",
     "metadata": {},
     "outputs": [
      {
       "output_type": "pyout",
       "prompt_number": 5,
       "text": [
        "array([[ 1,  2,  3,  4],\n",
        "       [ 2,  4,  6,  8],\n",
        "       [ 3,  6,  9, 12],\n",
        "       [ 4,  8, 12, 16]])"
       ]
      }
     ],
     "prompt_number": 5
    },
    {
     "cell_type": "code",
     "collapsed": false,
     "input": [
      "timeit mul2(100)"
     ],
     "language": "python",
     "metadata": {},
     "outputs": [
      {
       "output_type": "stream",
       "stream": "stdout",
       "text": [
        "1000 loops, best of 3: 251 us per loop\n"
       ]
      }
     ],
     "prompt_number": 6
    },
    {
     "cell_type": "markdown",
     "metadata": {},
     "source": [
      "Using NumPy is about 20 times faster here."
     ]
    },
    {
     "cell_type": "markdown",
     "metadata": {},
     "source": [
      "## Version 3: Optimized NumPy version\n",
      "\n",
      "This version is an optimized version of the previous example, using broadcasting instead of unnecessary array tiling."
     ]
    },
    {
     "cell_type": "code",
     "collapsed": false,
     "input": [
      "def mul3(n):\n",
      "    M = arange(1, n + 1).reshape((-1, 1))\n",
      "    N = arange(1, n + 1).reshape((1, -1))\n",
      "    return M * N"
     ],
     "language": "python",
     "metadata": {},
     "outputs": [],
     "prompt_number": 7
    },
    {
     "cell_type": "code",
     "collapsed": false,
     "input": [
      "mul3(4)"
     ],
     "language": "python",
     "metadata": {},
     "outputs": [
      {
       "output_type": "pyout",
       "prompt_number": 8,
       "text": [
        "array([[ 1,  2,  3,  4],\n",
        "       [ 2,  4,  6,  8],\n",
        "       [ 3,  6,  9, 12],\n",
        "       [ 4,  8, 12, 16]])"
       ]
      }
     ],
     "prompt_number": 8
    },
    {
     "cell_type": "code",
     "collapsed": false,
     "input": [
      "timeit mul3(100)"
     ],
     "language": "python",
     "metadata": {},
     "outputs": [
      {
       "output_type": "stream",
       "stream": "stdout",
       "text": [
        "10000 loops, best of 3: 88.3 us per loop\n"
       ]
      }
     ],
     "prompt_number": 9
    },
    {
     "cell_type": "markdown",
     "metadata": {},
     "source": [
      "This optimized version is about 60 times faster than the original Python version."
     ]
    }
   ],
   "metadata": {}
  }
 ]
}