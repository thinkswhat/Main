{
 "metadata": {
  "name": "9932_05_05"
 },
 "nbformat": 3,
 "nbformat_minor": 0,
 "worksheets": [
  {
   "cells": [
    {
     "cell_type": "markdown",
     "metadata": {},
     "source": [
      "Chapter 5, example 5\n",
      "====================\n",
      "\n",
      "Here we show how to use Cython with NumPy to accelerate Python algorithms operating on arrays. The code consists in simulating a stochastic process."
     ]
    },
    {
     "cell_type": "code",
     "collapsed": false,
     "input": [
      "%load_ext cythonmagic"
     ],
     "language": "python",
     "metadata": {},
     "outputs": [],
     "prompt_number": 1
    },
    {
     "cell_type": "code",
     "collapsed": false,
     "input": [
      "n = 10000"
     ],
     "language": "python",
     "metadata": {},
     "outputs": [],
     "prompt_number": 2
    },
    {
     "cell_type": "markdown",
     "metadata": {},
     "source": [
      "This function simulates a brownian motion with random, independent steps (up or down). We use a Python loop here."
     ]
    },
    {
     "cell_type": "code",
     "collapsed": false,
     "input": [
      "def step():\n",
      "    return sign(rand(1) - .5)\n",
      "\n",
      "def sim1(n):\n",
      "    x = zeros(n)\n",
      "    dx = 1./n\n",
      "    for i in xrange(n - 1):\n",
      "        x[i+1] = x[i] + dx * step()\n",
      "    return x"
     ],
     "language": "python",
     "metadata": {},
     "outputs": [],
     "prompt_number": 3
    },
    {
     "cell_type": "code",
     "collapsed": false,
     "input": [
      "plot(sim1(10000))"
     ],
     "language": "python",
     "metadata": {},
     "outputs": [
      {
       "output_type": "pyout",
       "prompt_number": 4,
       "text": [
        "[<matplotlib.lines.Line2D at 0x5a99b90>]"
       ]
      },
      {
       "output_type": "display_data",
       "png": "[encoded data removed]"
      }
     ],
     "prompt_number": 4
    },
    {
     "cell_type": "markdown",
     "metadata": {},
     "source": [
      "Let's evaluate the performance of this function."
     ]
    },
    {
     "cell_type": "code",
     "collapsed": false,
     "input": [
      "%timeit sim1(n)"
     ],
     "language": "python",
     "metadata": {},
     "outputs": [
      {
       "output_type": "stream",
       "stream": "stdout",
       "text": [
        "1 loops, best of 3: 216 ms per loop\n"
       ]
      }
     ],
     "prompt_number": 5
    },
    {
     "cell_type": "markdown",
     "metadata": {},
     "source": [
      "Now we convert it in Cython. We specify the type of each variable, and we rewrite the step function in C so that it only uses pure C functions."
     ]
    },
    {
     "cell_type": "code",
     "collapsed": false,
     "input": [
      "%%cython\n",
      "import numpy as np\n",
      "# We need to import NumPy with cimport\n",
      "cimport numpy as np\n",
      "DTYPE = np.double\n",
      "# We define the type of the array for Cython\n",
      "ctypedef np.double_t DTYPE_t\n",
      "\n",
      "# We rewrite the step function in C using the standard library\n",
      "from libc.stdlib cimport rand, RAND_MAX\n",
      "from libc.math cimport round\n",
      "\n",
      "cdef double step():\n",
      "    return 2 * round(float(rand()) / RAND_MAX) - 1\n",
      "\n",
      "def sim2(int n):\n",
      "    # here we specify the type of each variable with cdef, including the type of the array\n",
      "    # with a special syntax so that Cython knows at compile-time the number of dimensions of this array.\n",
      "    cdef int i\n",
      "    cdef double dx = 1. / n\n",
      "    cdef np.ndarray[DTYPE_t, ndim=1] x = np.zeros(n, dtype=DTYPE)\n",
      "    for i in range(n - 1):\n",
      "        x[i+1] = x[i] + dx * step()\n",
      "    return x"
     ],
     "language": "python",
     "metadata": {},
     "outputs": [],
     "prompt_number": 6
    },
    {
     "cell_type": "code",
     "collapsed": false,
     "input": [
      "%timeit sim2(n)"
     ],
     "language": "python",
     "metadata": {},
     "outputs": [
      {
       "output_type": "stream",
       "stream": "stdout",
       "text": [
        "1000 loops, best of 3: 900 us per loop\n"
       ]
      }
     ],
     "prompt_number": 7
    },
    {
     "cell_type": "markdown",
     "metadata": {},
     "source": [
      "We achieve a 240x speed improvement here!"
     ]
    }
   ],
   "metadata": {}
  }
 ]
}