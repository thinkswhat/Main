{
 "cells": [
  {
   "cell_type": "code",
   "execution_count": 1,
   "metadata": {
    "collapsed": false
   },
   "outputs": [],
   "source": [
    "%load_ext watermark"
   ]
  },
  {
   "cell_type": "code",
   "execution_count": 2,
   "metadata": {
    "collapsed": false
   },
   "outputs": [
    {
     "name": "stdout",
     "output_type": "stream",
     "text": [
      "Sebastian Raschka \n",
      "last updated: 2016-08-01 \n",
      "\n",
      "CPython 3.5.1\n",
      "IPython 5.0.0\n"
     ]
    }
   ],
   "source": [
    "%watermark -a 'Sebastian Raschka' -u -d -v"
   ]
  },
  {
   "cell_type": "markdown",
   "metadata": {},
   "source": [
    "# Stacks"
   ]
  },
  {
   "cell_type": "markdown",
   "metadata": {},
   "source": [
    "Stacks are one of the basic, linear datastructures that have the characteristical 2 end points (here: a *top* and a *base*). \n",
    "\n",
    "![](images/stacks-01.png)"
   ]
  },
  {
   "cell_type": "markdown",
   "metadata": {},
   "source": [
    "Stacks are also often referred to as LIFO datastructures, which stands for \"last in, first out,\" and we can picture them as \"unwashed dishes\" in our sink: the first plate to remove is the last one we put there and vice versa.\n",
    "\n",
    "![](images/stacks_02.png)"
   ]
  },
  {
   "cell_type": "markdown",
   "metadata": {},
   "source": [
    "The idea behind stacks sounds trivial, yet, it is a data structure that is immensely useful in a variety of applications. One example would be the \"back\" button of our web browser, which goes one step back in our search history upon \"clicking\" -- back to the last item we added to the stack. Before we look at another common example, parenthesis matching, let's implement a basic `Stack` class using Python lists as an illustration."
   ]
  },
  {
   "cell_type": "code",
   "execution_count": 3,
   "metadata": {
    "collapsed": true
   },
   "outputs": [],
   "source": [
    "class Stack(object):\n",
    "    def __init__(self):\n",
    "        self.stack = []\n",
    "    \n",
    "    def add(self, item):\n",
    "        self.stack.append(item)\n",
    "    \n",
    "    def pop(self):\n",
    "        self.stack.pop()\n",
    "    \n",
    "    def peek(self):\n",
    "        return self.stack[-1]\n",
    "    \n",
    "    def size(self):\n",
    "        return len(self.stack)"
   ]
  },
  {
   "cell_type": "markdown",
   "metadata": {},
   "source": [
    "Note that the addition and removal of a single item is a O(1) algorithm: it takes linear time to remove or add an item to the top of the stack. In the simple implementation above, we added 2 more convenience methods: a `peek` methods, which lets us look at the top of the stack (i.e., the end of the Python list `self.stack`) and a `size` method, which returns the number of elements that are currently in the stack."
   ]
  },
  {
   "cell_type": "code",
   "execution_count": 4,
   "metadata": {
    "collapsed": false
   },
   "outputs": [
    {
     "name": "stdout",
     "output_type": "stream",
     "text": [
      "size: 2\n",
      "top element 1\n",
      "size: 1\n",
      "top element a\n",
      "size: 0\n"
     ]
    }
   ],
   "source": [
    "st = Stack()\n",
    "\n",
    "st.add('a')\n",
    "st.add(1)\n",
    "print('size:', st.size())\n",
    "print('top element', st.peek())\n",
    "\n",
    "st.pop()\n",
    "print('size:', st.size())\n",
    "print('top element', st.peek())\n",
    "\n",
    "st.pop()\n",
    "print('size:', st.size())"
   ]
  },
  {
   "cell_type": "markdown",
   "metadata": {},
   "source": [
    "## Example 1: Matching Paranthesis"
   ]
  },
  {
   "cell_type": "markdown",
   "metadata": {},
   "source": [
    "Another common application of stacks -- next to the \"back\" button example mentioned earlier -- is syntax checking; matching openining and closing parantheses (e.g., in regex, math equations, etc.) to be specific. "
   ]
  },
  {
   "cell_type": "code",
   "execution_count": 5,
   "metadata": {
    "collapsed": false
   },
   "outputs": [],
   "source": [
    "def check_parens(eq, pair=['(', ')']):\n",
    "    st = Stack()\n",
    "    matches = True\n",
    "    for c in eq:\n",
    "        if c == pair[0]:\n",
    "            st.add(c)\n",
    "        elif c == pair[1]:\n",
    "            if st.size():\n",
    "                st.pop()\n",
    "            else:\n",
    "                matches = False\n",
    "                break\n",
    "    if not matches and st.size():\n",
    "        matches = False\n",
    "    return matches"
   ]
  },
  {
   "cell_type": "code",
   "execution_count": 6,
   "metadata": {
    "collapsed": false
   },
   "outputs": [
    {
     "data": {
      "text/plain": [
       "True"
      ]
     },
     "execution_count": 6,
     "metadata": {},
     "output_type": "execute_result"
    }
   ],
   "source": [
    "eq1 = '(a + b) * (c + d)'\n",
    "check_parens(eq=eq1)"
   ]
  },
  {
   "cell_type": "markdown",
   "metadata": {},
   "source": [
    "The code above is relatively simple, yet effective. We initialize a new `Stack` and set the `matches` variables to true -- we use the latter to keep track whether the paranthesis are matched or not. Next, we use a for loop to iterate through the string. If we encounter an opening paranthesis, we add it from the stack. If we encounter a closing parenthesis, we try to remove the last opening bracket from the stack. If we encounter a closing bracket but the stack is empty, we already know that the parentheses are not matching, and we can break out the for loop early. \n",
    "After we finished iterating through the string, we check if our stack is empty. If it is not, parentheses are not matching.\n",
    "\n",
    "Here, two more examples:"
   ]
  },
  {
   "cell_type": "code",
   "execution_count": 7,
   "metadata": {
    "collapsed": false
   },
   "outputs": [
    {
     "data": {
      "text/plain": [
       "False"
      ]
     },
     "execution_count": 7,
     "metadata": {},
     "output_type": "execute_result"
    }
   ],
   "source": [
    "eq2 = '(a + b) * (c + d))'\n",
    "check_parens(eq=eq2)"
   ]
  },
  {
   "cell_type": "code",
   "execution_count": 8,
   "metadata": {
    "collapsed": false
   },
   "outputs": [
    {
     "data": {
      "text/plain": [
       "False"
      ]
     },
     "execution_count": 8,
     "metadata": {},
     "output_type": "execute_result"
    }
   ],
   "source": [
    "eq3 = 'a + b) * (c + d)'\n",
    "check_parens(eq=eq3)"
   ]
  },
  {
   "cell_type": "markdown",
   "metadata": {},
   "source": [
    "## Example 2: Decimal to Binary Conversion"
   ]
  },
  {
   "cell_type": "markdown",
   "metadata": {},
   "source": [
    "Now, let's look at another example, where we are using a stack to convert digits from the decimal into the binary system. For example, the decimal number 135 would be represented as the number 10000111 in the binary system, since\n",
    "\n",
    "$$1 \\times 2^7 + 0 \\times 2^6 + 0 \\times 2^5 + 0 \\times 2^4 + 0 \\times 2^3 + 1 \\times 2^2 + 1 \\times 2^1 + 1 \\times 2^0 = 135.$$\n"
   ]
  },
  {
   "cell_type": "code",
   "execution_count": 9,
   "metadata": {
    "collapsed": true
   },
   "outputs": [],
   "source": [
    "def decimal_to_binary(number):\n",
    "    st = Stack()\n",
    "    while number > 0:\n",
    "        remainder = number % 2\n",
    "        st.add(remainder)\n",
    "        number = number // 2\n",
    "    binary = ''\n",
    "    while st.size():\n",
    "        binary += str(st.peek())\n",
    "        st.pop()\n",
    "    return binary"
   ]
  },
  {
   "cell_type": "markdown",
   "metadata": {},
   "source": [
    "Our conversion function is simple, we iteratively divide the integer number by 2 until we arrive at 0, and for each division, we add the remainder (a 0 or 1) to the stack. Finally, we remove the items one by one from the stack to build a string notation of the binary number."
   ]
  },
  {
   "cell_type": "code",
   "execution_count": 10,
   "metadata": {
    "collapsed": false
   },
   "outputs": [
    {
     "data": {
      "text/plain": [
       "'10000111'"
      ]
     },
     "execution_count": 10,
     "metadata": {},
     "output_type": "execute_result"
    }
   ],
   "source": [
    "decimal_to_binary(135)"
   ]
  },
  {
   "cell_type": "markdown",
   "metadata": {},
   "source": [
    "Finally, let's walk through the solution step by step to make sure we understood it correctly:"
   ]
  },
  {
   "cell_type": "markdown",
   "metadata": {},
   "source": [
    "- Initialize stack -> []\n",
    "\n",
    "1.\n",
    "    1. 135 % 2 = 1\n",
    "    2. add remainder 1 to stack -> [1]\n",
    "    3. 135 // 2 = 67\n",
    "2.\n",
    "    1. 67 % 2 = 1\n",
    "    2. add remainder 1 to stack -> [1, 1]\n",
    "    3. 67 // 2 = 33\n",
    "3.\n",
    "    1. 33 % 2 = 1\n",
    "    2. add remainder 1 to stack -> [1, 1, 1]\n",
    "    3. 33 // 2 = 16\n",
    "4.\n",
    "    1. 16 % 2 = 0\n",
    "    2. add remainder 0 to stack -> [1, 1, 1, 0]\n",
    "    3. 16 // 2 = 8\n",
    "5.\n",
    "    1. 8 % 2 = 0\n",
    "    2. add remainder 0 to stack -> [1, 1, 1, 0, 0]\n",
    "    3. 8 // 2 = 4\n",
    "6.\n",
    "    1. 4 % 2 = 0\n",
    "    2. add remainder 0 to stack -> [1, 1, 1, 0, 0, 0]\n",
    "    3. 4 // 2 = 2\n",
    "7.\n",
    "    1. 2 % 2 = 0\n",
    "    2. add remainder 0 to stack -> [1, 1, 1, 0, 0, 0, 0]\n",
    "    3. 2 // 2 = 1\n",
    "8.\n",
    "    1. 1 % 2 = 1\n",
    "    2. add remainder 1 to stack -> [1, 1, 1, 0, 0, 0, 0, 1]\n",
    "    3. 1 // 2 = 0\n",
    "    \n",
    "- [1, 1, 1, 0, 0, 0, 0, 1] -> 10000111"
   ]
  }
 ],
 "metadata": {
  "kernelspec": {
   "display_name": "Python 3",
   "language": "python",
   "name": "python3"
  },
  "language_info": {
   "codemirror_mode": {
    "name": "ipython",
    "version": 3
   },
   "file_extension": ".py",
   "mimetype": "text/x-python",
   "name": "python",
   "nbconvert_exporter": "python",
   "pygments_lexer": "ipython3",
   "version": "3.5.1"
  }
 },
 "nbformat": 4,
 "nbformat_minor": 0
}
