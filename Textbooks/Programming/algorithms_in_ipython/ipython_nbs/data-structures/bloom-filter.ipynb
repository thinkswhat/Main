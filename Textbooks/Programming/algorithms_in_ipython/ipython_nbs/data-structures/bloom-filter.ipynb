{
 "cells": [
  {
   "cell_type": "code",
   "execution_count": 1,
   "metadata": {
    "collapsed": true
   },
   "outputs": [],
   "source": [
    "%load_ext watermark"
   ]
  },
  {
   "cell_type": "code",
   "execution_count": 2,
   "metadata": {},
   "outputs": [
    {
     "name": "stdout",
     "output_type": "stream",
     "text": [
      "Sebastian Raschka \n",
      "last updated: 2017-07-23 \n",
      "\n",
      "CPython 3.6.1\n",
      "IPython 6.0.0\n"
     ]
    }
   ],
   "source": [
    "%watermark -a 'Sebastian Raschka' -u -d -v"
   ]
  },
  {
   "cell_type": "markdown",
   "metadata": {},
   "source": [
    "# Bloom Filters"
   ]
  },
  {
   "cell_type": "markdown",
   "metadata": {},
   "source": [
    "## Bloom filters in a nutshell"
   ]
  },
  {
   "cell_type": "markdown",
   "metadata": {},
   "source": [
    "A bloom filter is a probablistic data structures for memory-efficient look-ups to test if a element or value is a member of a set. In a nutshell, you can think of a bloom filter as a large bit array (an array that contains 1s and 0s), and by only checking a few elements (bits) of this array, we can tell whether an element is likely a member of a set or is definitely not a member of a set. Checking the set membership via bloom filters can return the following outputs:\n",
    "\n",
    "- Element is probably a member of the set\n",
    "- Element is definitely not a member of a set\n",
    "\n",
    "Or in other words, bloom filters can produce false positives (a match means that a element is a member of the set with a given uncertainty) but does not produce false negatives (non-matches always mean that the element is not a member of that set).\n",
    "\n",
    "So, if bloom filters are probablistic and can produce false positives, why are they useful in practice? Bloom filters are extremely useful if we are working with large databases and want to run a quick check whether or not it's worth to run a computationally more expensive database query to retrieve an element. If a bloom-filter returns a non-match, we know that an element is not contained in the set and thus we can't save computational resources to check the actual database for that element."
   ]
  },
  {
   "cell_type": "markdown",
   "metadata": {},
   "source": [
    "## The basic mechanics of bloom filters"
   ]
  },
  {
   "cell_type": "markdown",
   "metadata": {},
   "source": [
    "Bloom filters allow us to implement computationally cheap and memory efficient set membership checks using bit arrays. Given an element, a bloom filter uses multiple hash functions (or the same hash function with different random seeds) to encode the element as a position in the bit array. To walk through the inner works of a bloom filter step by step.\n",
    "\n",
    "**1)**\n",
    "\n",
    "let's assume we have initialized the following, empty bitarray *b* underlying the bloom filter of size 10:\n",
    "\n",
    "b = [0 0 0 0 0 0 0 0 0 0]\n",
    "\n",
    "**2)**\n",
    "\n",
    "Next, we use two different hash functions, *h1* and *h2* to encode an element *e*. These hash functions convert the output of the hash into an integer and normalize the integer so that it fits into the bounds of the array *b*:\n",
    "\n",
    "*h1(e)* -> 5  \n",
    "*h2(e)* -> 3  \n",
    "\n",
    "In the example above, the first hash function hashes element *e* to the array index position *5*, and the second hash function hashes the element to the array index position *3*.\n",
    "\n",
    "**3)**\n",
    "\n",
    "If we consider the hash operations of step *2)* as part of an *add to the set* operation, we would use those returned array index position to update the bitarray *b* as follows:\n",
    "\n",
    "[0 0 0 0 0 0 0 0 0 0] -> [0 0 0 1 0 1 0 0 0 0]\n",
    "\n",
    "If step *2)* was part of a *query* or look-up operation, we would simply check the respective array index positions: \n",
    "\n",
    "- If both position 3 and 5 have the bit value 1, the query returns \"probably in set\"\n",
    "- If position 3 or 5 (or both) have the bit value 0, the query returns \"definitely not in set\""
   ]
  },
  {
   "cell_type": "markdown",
   "metadata": {},
   "source": [
    "## Implementing a bloom filter in Python"
   ]
  },
  {
   "cell_type": "markdown",
   "metadata": {},
   "source": [
    "In this section, we are going to implement a bloom filter in Python. However, note that the following implementation of a bloom filter in Python mainly serves illustrative purposes and has not be designed for efficiency. For example, using Python list objects for representing bit arrays is very inefficient compared to using the [`bitarray`](https://pypi.python.org/pypi/bitarray/) package."
   ]
  },
  {
   "cell_type": "markdown",
   "metadata": {},
   "source": [
    "To generate the hashes, we will use the `hashlib` module from Python's standard library. Let's start with a simple example generating an integer hash using the `MD5` hash function:"
   ]
  },
  {
   "cell_type": "code",
   "execution_count": 3,
   "metadata": {},
   "outputs": [
    {
     "data": {
      "text/plain": [
       "43309944592180122138158756568456140780"
      ]
     },
     "execution_count": 3,
     "metadata": {},
     "output_type": "execute_result"
    }
   ],
   "source": [
    "import hashlib\n",
    "\n",
    "h1 = hashlib.md5()\n",
    "h1.update('hello-world'.encode('utf-8'))\n",
    "int(h1.hexdigest(), 16)"
   ]
  },
  {
   "cell_type": "markdown",
   "metadata": {},
   "source": [
    "Unfortunately, the update method will render the hash function non-deterministic in the context of bloom filters. I.e., hashing the same value would return a different integer hash:"
   ]
  },
  {
   "cell_type": "code",
   "execution_count": 4,
   "metadata": {},
   "outputs": [
    {
     "data": {
      "text/plain": [
       "94628577942110548051725978613383116803"
      ]
     },
     "execution_count": 4,
     "metadata": {},
     "output_type": "execute_result"
    }
   ],
   "source": [
    "h1.update('hello-world'.encode('utf-8'))\n",
    "int(h1.hexdigest(), 16)"
   ]
  },
  {
   "cell_type": "raw",
   "metadata": {},
   "source": [
    "A one-line work around that we can use in our bloom filter implementation would be as follows:"
   ]
  },
  {
   "cell_type": "code",
   "execution_count": 5,
   "metadata": {},
   "outputs": [
    {
     "data": {
      "text/plain": [
       "43309944592180122138158756568456140780"
      ]
     },
     "execution_count": 5,
     "metadata": {},
     "output_type": "execute_result"
    }
   ],
   "source": [
    "int(hashlib.new('md5', ('%s' % 'hello-world').encode('utf-8')).hexdigest(), 16)"
   ]
  },
  {
   "cell_type": "code",
   "execution_count": 6,
   "metadata": {},
   "outputs": [
    {
     "data": {
      "text/plain": [
       "43309944592180122138158756568456140780"
      ]
     },
     "execution_count": 6,
     "metadata": {},
     "output_type": "execute_result"
    }
   ],
   "source": [
    "int(hashlib.new('md5', ('%s' % 'hello-world').encode('utf-8')).hexdigest(), 16)"
   ]
  },
  {
   "cell_type": "markdown",
   "metadata": {},
   "source": [
    "Next, let's implement a `BloomFilter` class based on the concepts we discussed earlier:"
   ]
  },
  {
   "cell_type": "code",
   "execution_count": 7,
   "metadata": {
    "collapsed": true
   },
   "outputs": [],
   "source": [
    "class BloomFilter():\n",
    "    def __init__(self, array_size, hash_names):\n",
    "        self.array_size = array_size\n",
    "        self.bitarray = [0] * array_size\n",
    "        self.hash_names = hash_names\n",
    "        \n",
    "    def _get_hash_positions(self, value):\n",
    "        pos = []\n",
    "        for h in self.hash_names:\n",
    "            hash_hex = hashlib.new(h, ('%s' % value).encode(\n",
    "                'utf-8')).hexdigest()\n",
    "            # convert hashed value into an integer\n",
    "            asint = int(hash_hex, 16)\n",
    "            # modulo array_size to fit hash value into the bitarray\n",
    "            pos.append(asint % self.array_size)\n",
    "        return pos\n",
    "        \n",
    "    def add(self, value):\n",
    "        hash_pos = self._get_hash_positions(value)\n",
    "        for pos in hash_pos:\n",
    "            self.bitarray[pos] = 1\n",
    "        \n",
    "    def query(self, value):\n",
    "        hash_pos = self._get_hash_positions(value)\n",
    "        for pos in hash_pos:\n",
    "            if not self.bitarray[pos]:\n",
    "                return False\n",
    "        return True"
   ]
  },
  {
   "cell_type": "markdown",
   "metadata": {},
   "source": [
    "To test our implementation, let's initialize a bloom filter with array size 10 and two different hash function, a simple SHA hash and MD5 hash:"
   ]
  },
  {
   "cell_type": "code",
   "execution_count": 8,
   "metadata": {},
   "outputs": [
    {
     "data": {
      "text/plain": [
       "[0, 0, 0, 0, 0, 0, 0, 0, 0, 0]"
      ]
     },
     "execution_count": 8,
     "metadata": {},
     "output_type": "execute_result"
    }
   ],
   "source": [
    "bloom = BloomFilter(array_size=10, hash_names=('md5', 'sha1'))\n",
    "bloom.bitarray"
   ]
  },
  {
   "cell_type": "markdown",
   "metadata": {},
   "source": [
    "Next, we will add a new value to the bloom filter, 'hello world!'"
   ]
  },
  {
   "cell_type": "code",
   "execution_count": 9,
   "metadata": {},
   "outputs": [
    {
     "data": {
      "text/plain": [
       "[0, 1, 0, 0, 0, 0, 0, 1, 0, 0]"
      ]
     },
     "execution_count": 9,
     "metadata": {},
     "output_type": "execute_result"
    }
   ],
   "source": [
    "bloom.add('hello world!')\n",
    "bloom.bitarray"
   ]
  },
  {
   "cell_type": "markdown",
   "metadata": {},
   "source": [
    "As we can see from running the previous code example, the array index position the value was hashed into are `1` and `7`. Let's check the element for membership now:"
   ]
  },
  {
   "cell_type": "code",
   "execution_count": 10,
   "metadata": {},
   "outputs": [
    {
     "data": {
      "text/plain": [
       "True"
      ]
     },
     "execution_count": 10,
     "metadata": {},
     "output_type": "execute_result"
    }
   ],
   "source": [
    "bloom.query('hello world!')"
   ]
  },
  {
   "cell_type": "markdown",
   "metadata": {},
   "source": [
    "So far so good. Let's add another value, 'foo-bar':"
   ]
  },
  {
   "cell_type": "code",
   "execution_count": 11,
   "metadata": {},
   "outputs": [
    {
     "data": {
      "text/plain": [
       "[0, 1, 0, 1, 0, 1, 0, 1, 0, 0]"
      ]
     },
     "execution_count": 11,
     "metadata": {},
     "output_type": "execute_result"
    }
   ],
   "source": [
    "bloom.add('foo-bar')\n",
    "bloom.bitarray"
   ]
  },
  {
   "cell_type": "markdown",
   "metadata": {},
   "source": [
    "The 'foo-bar' value was hashed into positions `3` and `5`. Similarly, we can check the membership as follows:"
   ]
  },
  {
   "cell_type": "code",
   "execution_count": 12,
   "metadata": {},
   "outputs": [
    {
     "data": {
      "text/plain": [
       "True"
      ]
     },
     "execution_count": 12,
     "metadata": {},
     "output_type": "execute_result"
    }
   ],
   "source": [
    "bloom.query('foo-bar')"
   ]
  },
  {
   "cell_type": "markdown",
   "metadata": {},
   "source": [
    "Just to confirm that our bloom filter is implemented correctly and does not return false negative, let's run a query on a new value:"
   ]
  },
  {
   "cell_type": "code",
   "execution_count": 13,
   "metadata": {},
   "outputs": [
    {
     "data": {
      "text/plain": [
       "False"
      ]
     },
     "execution_count": 13,
     "metadata": {},
     "output_type": "execute_result"
    }
   ],
   "source": [
    "bloom.query('test')"
   ]
  },
  {
   "cell_type": "markdown",
   "metadata": {},
   "source": [
    "# Determining the probability of false positives"
   ]
  },
  {
   "cell_type": "markdown",
   "metadata": {},
   "source": [
    "A nice property of bloom filters is that we can determine the size of the bitarray mathematically for a desired false positive rate. The following equation approximates the probability of returning a false positive (for more details, and how to determine the optimal size of the bitarray and number of hashes, see the excellent article at https://en.wikipedia.org/wiki/Bloom_filter):\n",
    "\n",
    "\n",
    "$$P \\approx \\big(1 - e^{-kn / m}\\big)^k$$\n",
    "\n",
    "Here, $k$ is the number of hashes, $m$ is the size of the bitarray, $n$ is the expected number of elements that are to be stored in the bloom filter, and $k$ is the number of hash functions.\n",
    "\n",
    "\n",
    "For instance, say we only expect 3 values to be stored, only have 2 hash functions, and a tiny bitarray (just as in the previous code example), then our probability of returning a false positive would be approximately 20%:\n",
    "\n",
    "\n",
    "$$\\big(1 - e^{-2*3 / 10}\\big)^2 \\approx 0.2$$"
   ]
  }
 ],
 "metadata": {
  "kernelspec": {
   "display_name": "Python 3",
   "language": "python",
   "name": "python3"
  },
  "language_info": {
   "codemirror_mode": {
    "name": "ipython",
    "version": 3
   },
   "file_extension": ".py",
   "mimetype": "text/x-python",
   "name": "python",
   "nbconvert_exporter": "python",
   "pygments_lexer": "ipython3",
   "version": "3.6.1"
  }
 },
 "nbformat": 4,
 "nbformat_minor": 2
}
