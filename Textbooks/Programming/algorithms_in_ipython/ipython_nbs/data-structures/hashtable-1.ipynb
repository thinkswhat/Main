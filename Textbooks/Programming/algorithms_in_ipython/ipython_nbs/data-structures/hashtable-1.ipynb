{
 "cells": [
  {
   "cell_type": "code",
   "execution_count": 1,
   "metadata": {},
   "outputs": [
    {
     "name": "stdout",
     "output_type": "stream",
     "text": [
      "Sebastian Raschka \n",
      "last updated: 2017-08-14 \n",
      "\n",
      "CPython 3.6.1\n",
      "IPython 6.1.0\n"
     ]
    }
   ],
   "source": [
    "%load_ext watermark\n",
    "%watermark -a 'Sebastian Raschka' -u -d -v"
   ]
  },
  {
   "cell_type": "markdown",
   "metadata": {},
   "source": [
    "# Implementing a Simple Hash Table"
   ]
  },
  {
   "cell_type": "markdown",
   "metadata": {},
   "source": [
    "This notebooks walks through a simple hash table implementation that behaves relatively similar to a Python dictionary but has a fixed size of elements that it can store for simplicity. The methods we are going to implement are listed below. Note that `__setitem__` and `__getitem__` are used to overload the `[]` index access for the `insert` and `get` methods, respectively."
   ]
  },
  {
   "cell_type": "code",
   "execution_count": 2,
   "metadata": {
    "collapsed": true
   },
   "outputs": [],
   "source": [
    "class HashTable():\n",
    "\n",
    "    def __init__(self, size=17):\n",
    "        pass\n",
    "    \n",
    "    def insert(self, key, value):\n",
    "        \"\"\"Insert a new key-value pair or overwrites an existing one.\"\"\"\n",
    "        pass\n",
    "    \n",
    "    def __setitem__(self, key, value):\n",
    "        return self.insert(key, value)\n",
    "    \n",
    "    def get(self, key):\n",
    "        \"\"\"Retrieve the value corresponding to the key.\"\"\"\n",
    "        pass\n",
    "    \n",
    "    def __getitem__(self, key):\n",
    "        return self.get(key)\n",
    "    \n",
    "    def keys(self):\n",
    "        \"\"\"Retrieves all keys from the hash table\"\"\"\n",
    "        pass\n",
    "    \n",
    "    def _hash(self, key):\n",
    "        \"\"\"Computes the hash position\"\"\"\n",
    "        pass\n",
    "    \n",
    "    def _rehash(self, previous_hash):\n",
    "        \"\"\"Find the next hash for linear probing\"\"\"\n",
    "        pass"
   ]
  },
  {
   "cell_type": "markdown",
   "metadata": {},
   "source": [
    "### Hash Function"
   ]
  },
  {
   "cell_type": "markdown",
   "metadata": {},
   "source": [
    "For this simple example, we will be using a very naive hash function, the *remainder method*, which simply computes the remainder of the key when dividing it by the size of the hash table. For example:"
   ]
  },
  {
   "cell_type": "code",
   "execution_count": 3,
   "metadata": {},
   "outputs": [
    {
     "name": "stdout",
     "output_type": "stream",
     "text": [
      "Position in the hash table: 13\n"
     ]
    }
   ],
   "source": [
    "hash_table_size = 17\n",
    "key = 123467 \n",
    "position = key % hash_table_size\n",
    "print('Position in the hash table:', position)"
   ]
  },
  {
   "cell_type": "markdown",
   "metadata": {},
   "source": [
    "Note that this function only works with integer keys. Thus, if the key is a string, we have to make a little modification:"
   ]
  },
  {
   "cell_type": "code",
   "execution_count": 4,
   "metadata": {},
   "outputs": [
    {
     "name": "stdout",
     "output_type": "stream",
     "text": [
      "Position in the hash table: 2\n"
     ]
    }
   ],
   "source": [
    "string_key = 'abcdef'\n",
    "key = sum(ord(c) for c in string_key)\n",
    "position = key % hash_table_size\n",
    "print('Position in the hash table:', position)"
   ]
  },
  {
   "cell_type": "markdown",
   "metadata": {},
   "source": [
    "### Collision resolution with linear probing\n",
    "\n",
    "For collision resolution we will use linear probing. That is, if a new key hashes to the same position as an existing one, we will increase the old hash value by a skip constant and check if the resulting slot is empty. If not, we will repeat this procedure until we find the next empty slot and insert the new key in this empty slot. We call this \"***rehashing***.\"\n",
    "\n",
    "For look-ups, we then have to use the following procedure:\n",
    "\n",
    "- Check the key in the hash table that maps to the hash value of a key we want to look up.\n",
    "    - If the keys are identical, return the value.\n",
    "    - Else, go through the hash table using \"reshashing\" look-up key is found or return None if an empty slot was encountered.\n",
    "    \n",
    "For simplicity, we will use implement the reshashing function using a skip constant of 1. So let's now implement the `__init__`, `_hash`, `_rehash`, `keys` and `insert` methods to get a simple hashtable set up in which we can already store some keys:"
   ]
  },
  {
   "cell_type": "code",
   "execution_count": 5,
   "metadata": {
    "collapsed": true
   },
   "outputs": [],
   "source": [
    "class HashTable():\n",
    "    def __init__(self, size=17):\n",
    "        self.size = size\n",
    "        self.stored_keys = [None] * self.size\n",
    "        self.stored_values = [None] * self.size\n",
    "    \n",
    "    def insert(self, key, value):\n",
    "        \"\"\"Insert a new key-value pair or overwrites an existing one.\"\"\"\n",
    "        hash_val = self._hash(key)\n",
    "        \n",
    "        # insert new key if it doesn't exist yet\n",
    "        if self.stored_keys[hash_val] is None:\n",
    "            self.stored_keys[hash_val] = key\n",
    "            self.stored_values[hash_val] = value\n",
    "        \n",
    "        # overwrite key if it already exists\n",
    "        else:\n",
    "            if self.stored_keys[hash_val] == key:\n",
    "                self.stored_values[hash_val] = value\n",
    "            \n",
    "            # collision resolution\n",
    "            elif len(self.keys()) == self.size:\n",
    "                raise ValueError('Hash table is full')\n",
    "            \n",
    "            else:\n",
    "                next_hash = self._rehash(hash_val)\n",
    "                \n",
    "                while (self.stored_keys[next_hash] is not None\n",
    "                       and self.stored_keys[next_hash] != key):\n",
    "                    next_hash = self._rehash(next_hash)\n",
    "                \n",
    "                # insert new key if it doesn't exist yet\n",
    "                if self.stored_keys[next_hash] is None:\n",
    "                    self.stored_keys[next_hash] = key\n",
    "                    self.stored_values[next_hash] = value\n",
    "                    \n",
    "                # overwrite key if it already exists\n",
    "                else:\n",
    "                    self.stored_values[next_hash] = value\n",
    "            \n",
    "    def __setitem__(self, key, value):\n",
    "        return self.insert(key, value)\n",
    "    \n",
    "    def get(self, key):\n",
    "        \"\"\"Retrieve the value corresponding to the key.\"\"\"\n",
    "        pass\n",
    "    \n",
    "    def __getitem__(self, key):\n",
    "        return self.get(key)\n",
    "    \n",
    "    def keys(self):\n",
    "        \"\"\"Retrieves all keys from the hash table\"\"\"\n",
    "        return [k for k in self.stored_keys if k is not None]\n",
    "    \n",
    "    def _hash(self, key):\n",
    "        \"\"\"Computes the hash position.\"\"\"\n",
    "        if isinstance(key, str):\n",
    "            key = sum(ord(c) for c in key)\n",
    "        position = key % hash_table_size\n",
    "        return position\n",
    "    \n",
    "    def _rehash(self, previous_hash):\n",
    "        \"\"\"Find the next hash for linear probing\"\"\"\n",
    "        return (previous_hash + 1) % self.size"
   ]
  },
  {
   "cell_type": "markdown",
   "metadata": {},
   "source": [
    "Let's start by inserting 2 different keys and check they have been stored by listing all keys:"
   ]
  },
  {
   "cell_type": "code",
   "execution_count": 6,
   "metadata": {},
   "outputs": [
    {
     "data": {
      "text/plain": [
       "['abc', 'xyz']"
      ]
     },
     "execution_count": 6,
     "metadata": {},
     "output_type": "execute_result"
    }
   ],
   "source": [
    "hashtable = HashTable()\n",
    "hashtable['abc'] = 1\n",
    "hashtable['xyz'] = 2\n",
    "hashtable.keys()"
   ]
  },
  {
   "cell_type": "markdown",
   "metadata": {},
   "source": [
    "Next, let's use a key that would result in a hash collision with one of the already stored keys:"
   ]
  },
  {
   "cell_type": "code",
   "execution_count": 7,
   "metadata": {},
   "outputs": [
    {
     "name": "stdout",
     "output_type": "stream",
     "text": [
      "5\n",
      "0\n",
      "5\n"
     ]
    }
   ],
   "source": [
    "print(hashtable._hash('abc'))\n",
    "print(hashtable._hash('efg'))\n",
    "print(hashtable._hash('abcdefgh'))"
   ]
  },
  {
   "cell_type": "markdown",
   "metadata": {},
   "source": [
    "We can use this key, `'abcdefgh'`, now if hash collisions are resolved correctly:"
   ]
  },
  {
   "cell_type": "code",
   "execution_count": 8,
   "metadata": {},
   "outputs": [
    {
     "data": {
      "text/plain": [
       "['abc', 'xyz', 'abcdefgh']"
      ]
     },
     "execution_count": 8,
     "metadata": {},
     "output_type": "execute_result"
    }
   ],
   "source": [
    "hashtable['abcdefgh'] = 3\n",
    "hashtable.keys()"
   ]
  },
  {
   "cell_type": "markdown",
   "metadata": {},
   "source": [
    "Finally, let's add the get method to retrieve keys:"
   ]
  },
  {
   "cell_type": "code",
   "execution_count": 9,
   "metadata": {
    "collapsed": true
   },
   "outputs": [],
   "source": [
    "class HashTable():\n",
    "\n",
    "    def __init__(self, size=17):\n",
    "        self.size = size\n",
    "        self.stored_keys = [None] * self.size\n",
    "        self.stored_values = [None] * self.size\n",
    "    \n",
    "    def insert(self, key, value):\n",
    "        \"\"\"Insert a new key-value pair or overwrites an existing one.\"\"\"\n",
    "        hash_val = self._hash(key)\n",
    "        \n",
    "        # insert new key if it doesn't exist yet\n",
    "        if self.stored_keys[hash_val] is None:\n",
    "            self.stored_keys[hash_val] = key\n",
    "            self.stored_values[hash_val] = value\n",
    "        \n",
    "        # overwrite key if it already exists\n",
    "        else:\n",
    "            if self.stored_keys[hash_val] == key:\n",
    "                self.stored_values[hash_val] = value\n",
    "            \n",
    "            # collision resolution\n",
    "            elif len(self.keys()) == self.size:\n",
    "                raise ValueError('Hash table is full')\n",
    "            \n",
    "            else:\n",
    "                next_hash = self._rehash(hash_val)\n",
    "                \n",
    "                while (self.stored_keys[next_hash] is not None\n",
    "                       and self.stored_keys[next_hash] != key):\n",
    "                    next_hash = self._rehash(next_hash)\n",
    "                \n",
    "                # insert new key if it doesn't exist yet\n",
    "                if self.stored_keys[next_hash] is None:\n",
    "                    self.stored_keys[next_hash] = key\n",
    "                    self.stored_values[next_hash] = value\n",
    "                    \n",
    "                # overwrite key if it already exists\n",
    "                else:\n",
    "                    self.stored_values[next_hash] = value\n",
    "            \n",
    "    def __setitem__(self, key, value):\n",
    "        return self.insert(key, value)\n",
    "    \n",
    "    def get(self, key):\n",
    "        \"\"\"Retrieve the value corresponding to the key.\"\"\"\n",
    "        \n",
    "        hash_val = self._hash(key)\n",
    "        if self.stored_keys[hash_val] == key:\n",
    "            return self.stored_values[hash_val]\n",
    "        elif self.stored_keys[hash_val] is None:\n",
    "            return KeyError(key)\n",
    "        else:\n",
    "            next_hash = self._rehash(hash_val)\n",
    "            while self.stored_keys[next_hash] != key:\n",
    "                next_hash = self._rehash(next_hash)\n",
    "                \n",
    "                if next_hash == hash_val:\n",
    "                    return KeyError(key)\n",
    "                elif self.stored_keys[next_hash] is None:\n",
    "                    return KeyError(key)\n",
    "            return self.stored_values[next_hash]\n",
    "                    \n",
    "\n",
    "    \n",
    "    def __getitem__(self, key):\n",
    "        return self.get(key)\n",
    "    \n",
    "    def keys(self):\n",
    "        \"\"\"Retrieves all keys from the hash table\"\"\"\n",
    "        return [k for k in self.stored_keys if k is not None]\n",
    "    \n",
    "    def _hash(self, key):\n",
    "        \"\"\"Computes the hash position.\"\"\"\n",
    "        if isinstance(key, str):\n",
    "            key = sum(ord(c) for c in key)\n",
    "        position = key % hash_table_size\n",
    "        return position\n",
    "    \n",
    "    def _rehash(self, previous_hash):\n",
    "        \"\"\"Find the next hash for linear probing\"\"\"\n",
    "        return (previous_hash + 1) % self.size"
   ]
  },
  {
   "cell_type": "code",
   "execution_count": 10,
   "metadata": {
    "collapsed": true
   },
   "outputs": [],
   "source": [
    "hashtable = HashTable()\n",
    "hashtable['abc'] = 1\n",
    "hashtable['xyz'] = 2\n",
    "hashtable['abcdefgh'] = 3"
   ]
  },
  {
   "cell_type": "code",
   "execution_count": 11,
   "metadata": {},
   "outputs": [
    {
     "data": {
      "text/plain": [
       "1"
      ]
     },
     "execution_count": 11,
     "metadata": {},
     "output_type": "execute_result"
    }
   ],
   "source": [
    "hashtable['abc']"
   ]
  },
  {
   "cell_type": "code",
   "execution_count": 12,
   "metadata": {},
   "outputs": [
    {
     "data": {
      "text/plain": [
       "2"
      ]
     },
     "execution_count": 12,
     "metadata": {},
     "output_type": "execute_result"
    }
   ],
   "source": [
    "hashtable['xyz']"
   ]
  },
  {
   "cell_type": "code",
   "execution_count": 13,
   "metadata": {},
   "outputs": [
    {
     "data": {
      "text/plain": [
       "3"
      ]
     },
     "execution_count": 13,
     "metadata": {},
     "output_type": "execute_result"
    }
   ],
   "source": [
    "hashtable['abcdefgh']"
   ]
  },
  {
   "cell_type": "markdown",
   "metadata": {},
   "source": [
    "As we can see, the hash collision resolution works correctly for both `insert` and the `get`."
   ]
  }
 ],
 "metadata": {
  "kernelspec": {
   "display_name": "Python 3",
   "language": "python",
   "name": "python3"
  },
  "language_info": {
   "codemirror_mode": {
    "name": "ipython",
    "version": 3
   },
   "file_extension": ".py",
   "mimetype": "text/x-python",
   "name": "python",
   "nbconvert_exporter": "python",
   "pygments_lexer": "ipython3",
   "version": "3.6.1"
  }
 },
 "nbformat": 4,
 "nbformat_minor": 2
}
