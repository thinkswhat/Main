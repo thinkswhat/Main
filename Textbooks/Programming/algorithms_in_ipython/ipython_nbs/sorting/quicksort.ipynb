{
 "cells": [
  {
   "cell_type": "code",
   "execution_count": 1,
   "metadata": {},
   "outputs": [
    {
     "name": "stdout",
     "output_type": "stream",
     "text": [
      "Sebastian Raschka \n",
      "last updated: 2017-08-04 \n",
      "\n",
      "CPython 3.6.1\n",
      "IPython 6.1.0\n"
     ]
    }
   ],
   "source": [
    "%load_ext watermark\n",
    "%watermark -a 'Sebastian Raschka' -u -d -v"
   ]
  },
  {
   "cell_type": "markdown",
   "metadata": {},
   "source": [
    "# QuickSort"
   ]
  },
  {
   "cell_type": "markdown",
   "metadata": {},
   "source": [
    "Quicksort is one of the fastest sorting algorithms with a time complexity of O(n log n) on average. Quicksort is also a typical example of a Divide & Conquer algorithm that can be implemented using recursion. Quicksort works as follows:\n",
    "\n",
    "\n",
    "First, we define a base case. Here, our base case is an array of one or zero elements. In other words, if a given array reached the size < 2, we return it. Now, given an array, we pick a value and assign it as the so-called *pivot*. Then, we look at all the remaining elements in an array and divide them into 2 new arrays:\n",
    "\n",
    "1. an array with values smaller than or equal to the pivot\n",
    "2. an array with values greater than the pivot\n",
    "\n",
    "Then, in recursive fashion, we apply the quicksort algorithm to those 2 subarrays. This procedure is repeated until it hits the base case, so that the function will return a sorted array from the call stack.\n",
    "\n",
    "Below is a simple implementation in Python:"
   ]
  },
  {
   "cell_type": "code",
   "execution_count": 2,
   "metadata": {},
   "outputs": [],
   "source": [
    "def quicksort(ary):\n",
    "    if len(ary) < 2:\n",
    "        return ary\n",
    "    else:\n",
    "        pivot = ary[0]\n",
    "        smaller, bigger = [], []\n",
    "        for ele in ary[1:]:\n",
    "            if ele <= pivot:\n",
    "                smaller.append(ele)\n",
    "            else:\n",
    "                bigger.append(ele)\n",
    "        return quicksort(smaller) + [pivot] + quicksort(bigger)\n",
    "            "
   ]
  },
  {
   "cell_type": "code",
   "execution_count": 3,
   "metadata": {},
   "outputs": [
    {
     "data": {
      "text/plain": [
       "[]"
      ]
     },
     "execution_count": 3,
     "metadata": {},
     "output_type": "execute_result"
    }
   ],
   "source": [
    "quicksort([])"
   ]
  },
  {
   "cell_type": "code",
   "execution_count": 4,
   "metadata": {},
   "outputs": [
    {
     "data": {
      "text/plain": [
       "[1]"
      ]
     },
     "execution_count": 4,
     "metadata": {},
     "output_type": "execute_result"
    }
   ],
   "source": [
    "quicksort([1])"
   ]
  },
  {
   "cell_type": "code",
   "execution_count": 5,
   "metadata": {},
   "outputs": [
    {
     "data": {
      "text/plain": [
       "[1, 2, 5, 12]"
      ]
     },
     "execution_count": 5,
     "metadata": {},
     "output_type": "execute_result"
    }
   ],
   "source": [
    "quicksort([12, 5, 1, 2])"
   ]
  },
  {
   "cell_type": "markdown",
   "metadata": {},
   "source": [
    "Note that the performance of quicksort is only O(n log n) if the values in the array occur in completely random order. If an array is already sorted, quicksort has time complexity O(n^2) if we would always pick the first value of the array as the pivot like in the implementation above. Why? Because, depending on whether the array is sorted in ascending or descending order, the left or the right subarray in the recursive function will always be empty. Thus, if we have n elements in an array, our call stack will have a depth of n, thus O(n*n) = O(n^2). However, if we always divide the array in half, the call stack will only have depth log n, thus O(n log n). \n",
    "\n",
    "If we know that our arrays are not always in random order, it is recommended to implement quicksort so that it picks a random element as the pivot and not always strictly the first number in that array.\n"
   ]
  },
  {
   "cell_type": "code",
   "execution_count": null,
   "metadata": {
    "collapsed": true
   },
   "outputs": [],
   "source": []
  }
 ],
 "metadata": {
  "kernelspec": {
   "display_name": "Python 3",
   "language": "python",
   "name": "python3"
  },
  "language_info": {
   "codemirror_mode": {
    "name": "ipython",
    "version": 3
   },
   "file_extension": ".py",
   "mimetype": "text/x-python",
   "name": "python",
   "nbconvert_exporter": "python",
   "pygments_lexer": "ipython3",
   "version": "3.6.1"
  }
 },
 "nbformat": 4,
 "nbformat_minor": 1
}
