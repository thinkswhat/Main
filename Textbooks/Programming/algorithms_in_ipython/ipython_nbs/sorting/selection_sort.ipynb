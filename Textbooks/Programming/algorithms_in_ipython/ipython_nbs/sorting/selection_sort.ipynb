{
 "cells": [
  {
   "cell_type": "code",
   "execution_count": 1,
   "metadata": {},
   "outputs": [
    {
     "name": "stdout",
     "output_type": "stream",
     "text": [
      "Sebastian Raschka \n",
      "last updated: 2016-06-24 \n",
      "\n",
      "CPython 3.5.1\n",
      "IPython 4.2.0\n"
     ]
    }
   ],
   "source": [
    "%load_ext watermark\n",
    "%watermark -a 'Sebastian Raschka' -u -d -v"
   ]
  },
  {
   "cell_type": "markdown",
   "metadata": {},
   "source": [
    "# Selection Sort"
   ]
  },
  {
   "cell_type": "markdown",
   "metadata": {},
   "source": [
    "Selection sort is one of the simplest, and probably most classic, sorting algorithms. It sorts an array in-place with a complexity of $O(n^2)$, since a given list of *n* elements is sorted *n* times. Technically, each element is only checked *n* times in the first iteration. The second iteration then checks the remaining *n-1* elements, the third iteration the remaining *n-2* elements, and so forth. Thus, the number of checks that need to be performed is $n\\times 1/2 \\times n$. However, in Big O notation, we omit constants; thus we write $O(n^2)$ instead of  $O(n\\times 1/2 \\times n)$.\n",
    "\n",
    "The procedure is as follows:"
   ]
  },
  {
   "cell_type": "markdown",
   "metadata": {},
   "source": [
    "![](./images/selection-sort-1.png)"
   ]
  },
  {
   "cell_type": "code",
   "execution_count": 2,
   "metadata": {},
   "outputs": [
    {
     "name": "stdout",
     "output_type": "stream",
     "text": [
      "[8] -> [8]\n",
      "[9, 8] -> [8, 9]\n",
      "[8, 9, 1] -> [1, 8, 9]\n"
     ]
    }
   ],
   "source": [
    "def selection_sort(ary):\n",
    "    for i in range(len(ary) - 1):\n",
    "        min_ele_idx = i+1\n",
    "        for j in range(i+2, len(ary)):\n",
    "            if ary[j] < ary[min_ele_idx]:\n",
    "                min_ele_idx = j\n",
    "        if ary[min_ele_idx] < ary[i]:\n",
    "            ary[min_ele_idx], ary[i] = ary[i], ary[min_ele_idx]\n",
    "    return ary\n",
    "  \n",
    "print('[8] ->', selection_sort([8]))\n",
    "print('[9, 8] ->', selection_sort([9, 8]))\n",
    "print('[8, 9, 1] ->', selection_sort([8, 9, 1]))"
   ]
  },
  {
   "cell_type": "code",
   "execution_count": 3,
   "metadata": {},
   "outputs": [
    {
     "data": {
      "text/plain": [
       "True"
      ]
     },
     "execution_count": 3,
     "metadata": {},
     "output_type": "execute_result"
    }
   ],
   "source": [
    "import random\n",
    "\n",
    "test_ary = random.sample(range(-1000, 1000), 2000)\n",
    "test_ary_sorted = selection_sort(test_ary)\n",
    "\n",
    "bool(test_ary == test_ary_sorted)"
   ]
  }
 ],
 "metadata": {
  "kernelspec": {
   "display_name": "Python 3",
   "language": "python",
   "name": "python3"
  },
  "language_info": {
   "codemirror_mode": {
    "name": "ipython",
    "version": 3
   },
   "file_extension": ".py",
   "mimetype": "text/x-python",
   "name": "python",
   "nbconvert_exporter": "python",
   "pygments_lexer": "ipython3",
   "version": "3.6.1"
  }
 },
 "nbformat": 4,
 "nbformat_minor": 1
}
