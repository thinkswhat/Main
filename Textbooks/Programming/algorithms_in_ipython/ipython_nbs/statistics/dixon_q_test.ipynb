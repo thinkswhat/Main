{
 "metadata": {
  "name": "",
  "signature": "sha256:44d2aa8ef5d85aec0081655c5f05c38e8c1b6ee3879de1a46ad0476ef3f11c98"
 },
 "nbformat": 3,
 "nbformat_minor": 0,
 "worksheets": [
  {
   "cells": [
    {
     "cell_type": "markdown",
     "metadata": {},
     "source": [
      "[Sebastian Raschka](http://www.sebastianraschka.com)  \n"
     ]
    },
    {
     "cell_type": "code",
     "collapsed": false,
     "input": [
      "%load_ext watermark"
     ],
     "language": "python",
     "metadata": {},
     "outputs": [],
     "prompt_number": 1
    },
    {
     "cell_type": "code",
     "collapsed": false,
     "input": [
      "%watermark -v -d -u"
     ],
     "language": "python",
     "metadata": {},
     "outputs": [
      {
       "output_type": "stream",
       "stream": "stdout",
       "text": [
        "Last updated: 18/07/2014 \n",
        "\n",
        "CPython 3.4.1\n",
        "IPython 2.1.0\n"
       ]
      }
     ],
     "prompt_number": 3
    },
    {
     "cell_type": "markdown",
     "metadata": {},
     "source": [
      "<font size=\"1.5em\">[More information](http://nbviewer.ipython.org/github/rasbt/python_reference/blob/master/ipython_magic/watermark.ipynb) about the `watermark` magic command extension.</font>"
     ]
    },
    {
     "cell_type": "markdown",
     "metadata": {},
     "source": [
      "This IPython notebook can be found in the GitHub repository [rasbt/algorithms_in_ipython_notebooks](https://github.com/rasbt/algorithms_in_ipython_notebooks)"
     ]
    },
    {
     "cell_type": "markdown",
     "metadata": {},
     "source": [
      "<hr>\n",
      "I would be happy to hear your comments and suggestions.  \n",
      "Please feel free to drop me a note via\n",
      "[twitter](https://twitter.com/rasbt), [email](mailto:bluewoodtree@gmail.com), or [google+](https://plus.google.com/118404394130788869227).\n",
      "<hr>"
     ]
    },
    {
     "cell_type": "markdown",
     "metadata": {},
     "source": [
      "<br>\n",
      "<br>"
     ]
    },
    {
     "cell_type": "heading",
     "level": 1,
     "metadata": {},
     "source": [
      "Dixon's Q test to identify outliers for small sample sizes"
     ]
    },
    {
     "cell_type": "markdown",
     "metadata": {},
     "source": [
      "Dixon's Q test<sup> 1</sup> is a convenient way to quickly identify outliers in datasets that only contains a small number of observations: typically $3 \\leq n \\leq 10$."
     ]
    },
    {
     "cell_type": "markdown",
     "metadata": {},
     "source": [
      "<hr>\n",
      "<sup>1 </sup>R. B. Dean and W. J. Dixon (1951) [\"Simplified Statistics for Small Numbers of Observations\"](http://pubs.acs.org/doi/abs/10.1021/ac60052a025). Anal. Chem., 1951, 23 (4), 636\u2013638\n",
      "<hr>"
     ]
    },
    {
     "cell_type": "heading",
     "level": 1,
     "metadata": {},
     "source": [
      "Sections"
     ]
    },
    {
     "cell_type": "markdown",
     "metadata": {},
     "source": [
      "- [Application](#Application)\n",
      "\n",
      "- [Application](#Application)\n",
      "\n",
      "- [Criticism](#Criticism)\n",
      "\n",
      "- [Method](#Method)\n",
      "\n",
      "    - [1) Arange values for observations in ascending order](#step1)\n",
      "\n",
      "    - [2) Calculate Q](#step2)\n",
      "\n",
      "    - [3) Compare calculated $Q_{exp}$ to the tabulated critical Q-value $Q_{crit}$](#step3)\n",
      "    \n",
      "    - [4) Example](#step4)\n",
      "\n",
      "- [Implementation in Python](#Implementation)\n",
      "\n",
      "- [Plotting the Data](#Plotting-the-Data)\n",
      "\n",
      "    - [Bar plot of the sample means with standard deviation](#Bar-plot-of-the-sample-means-with-standard-deviation)\n",
      "    \n",
      "    - [Boxplot](#Boxplot)"
     ]
    },
    {
     "cell_type": "markdown",
     "metadata": {},
     "source": [
      "<br>\n",
      "<br>"
     ]
    },
    {
     "cell_type": "heading",
     "level": 2,
     "metadata": {},
     "source": [
      "Application"
     ]
    },
    {
     "cell_type": "markdown",
     "metadata": {},
     "source": [
      "[[back to top]](#Sections)"
     ]
    },
    {
     "cell_type": "markdown",
     "metadata": {},
     "source": [
      "Although (at least in my opinion), the removal of outliers is a very questionable practice, this test is quite popular in the field of chemistry to \"objectively\" detect and reject outliers that are due to systematic errors by the experimentalist.\n"
     ]
    },
    {
     "cell_type": "markdown",
     "metadata": {},
     "source": [
      "<br>\n",
      "<br>"
     ]
    },
    {
     "cell_type": "heading",
     "level": 2,
     "metadata": {},
     "source": [
      "Criticism"
     ]
    },
    {
     "cell_type": "markdown",
     "metadata": {},
     "source": [
      "[[back to top]](#Sections)"
     ]
    },
    {
     "cell_type": "markdown",
     "metadata": {},
     "source": [
      "If we want to use this test to legitimately remove (potential) outliers from a dataset, we should keep in mind that \n",
      "\n",
      "- our data has to be normal distributed,\n",
      "\n",
      "- and that we are not supposed to use this test more than once the same data set.\n",
      "\n",
      "In my opinion, the Dixon Q-test should only be used with great caution, since this simple statistic is based on the assumption that the data is normal distributed, which can be quite challenging to predict for small sample sizes (if no prior/additional information is provided).  \n",
      "Personally, I would use the Dixon Q-test to only **detect** outliers and not to **remove** those, which can help with the identification of uncertainties in the data set or problems in experimental procedures.\n",
      "Intuitively, this is quite similar to an approach of identifying samples that have a large standard deviation.\n",
      "\n",
      "For example, if I tested ~1000 chemical compounds in some sort of activity assay - each compound 5 times, I would mark compounds that contain Q-test outliers for re-testing, because there might have been some problem in the measurement procedure that could have caused this inconsistency."
     ]
    },
    {
     "cell_type": "markdown",
     "metadata": {},
     "source": [
      "<br>\n",
      "<br>"
     ]
    },
    {
     "cell_type": "heading",
     "level": 2,
     "metadata": {},
     "source": [
      "Method"
     ]
    },
    {
     "cell_type": "markdown",
     "metadata": {},
     "source": [
      "[[back to top]](#Sections)"
     ]
    },
    {
     "cell_type": "markdown",
     "metadata": {},
     "source": [
      "<br>\n",
      "<br>"
     ]
    },
    {
     "cell_type": "markdown",
     "metadata": {},
     "source": [
      "<a id='step1'></a>"
     ]
    },
    {
     "cell_type": "heading",
     "level": 3,
     "metadata": {},
     "source": [
      "1) Arange values for observations in ascending order"
     ]
    },
    {
     "cell_type": "markdown",
     "metadata": {},
     "source": [
      "[[back to top]](#Sections)"
     ]
    },
    {
     "cell_type": "markdown",
     "metadata": {},
     "source": [
      "First, we arange the data for our sample in ascending order (from the lowest to the highest value):\n",
      "\n",
      "$x_1 < x_2 < . . . < x_N$\n"
     ]
    },
    {
     "cell_type": "markdown",
     "metadata": {},
     "source": [
      "<br>\n",
      "<br>"
     ]
    },
    {
     "cell_type": "markdown",
     "metadata": {},
     "source": [
      "<a id='step2'></a>"
     ]
    },
    {
     "cell_type": "heading",
     "level": 3,
     "metadata": {},
     "source": [
      "2) Calculate Q"
     ]
    },
    {
     "cell_type": "markdown",
     "metadata": {},
     "source": [
      "[[back to top]](#Sections)"
     ]
    },
    {
     "cell_type": "markdown",
     "metadata": {},
     "source": [
      "Next, we calculate the experimental Q-value ($Q_{exp}$).\n",
      "\n",
      "Note that in a later paper in 1953, Dixon and Dean<sup> 3</sup> revisted the calculation of the Q-value and reported different equations for different scenarios:\n",
      "\n",
      "![](https://raw.githubusercontent.com/rasbt/algorithms_in_ipython_notebooks/master/images/dixon_q_equations.png)\n",
      "\n",
      "(from: Rorabacher, David B., 1991<sup> 2</sup>)\n",
      "\n",
      "- $r_{10} \\;\\; for \\;\\; 3 \\geq n \\leq 7$\n",
      "- $r_{11} \\;\\; for \\;\\; 8 \\geq n \\leq 10$\n",
      "- $r_{21} \\;\\; for \\;\\; 11 \\geq n \\leq 13$\n",
      "- $r_{22} \\;\\; for \\;\\; n  \\leq 14$\n",
      "\n",
      "However, according to a statement/observation in a more recent paper (Rorabacher, David B., 1991<sup> 2</sup>): \"The *r<sub>l0</sub>* ratio is commonly designated as 'Q' and is generally considered to be the most convenient, legitimate, statistical test available for the rejection of deviant values from a small sample conforming to a Gaussian distribution. (It is equally well suited to larger data sets if only one outlier is present.)\"\n",
      "\n",
      "Therefore, I will use *r<sub>l0</sub>* for the following implementation of the Dixon Q-test:\n",
      "\n",
      "\\begin{equation} Q_{exp} = \\frac{x_{2} - x_{1}}{x_{n} - x_{1}} \\end{equation}\n",
      "\n",
      "where it is assumed that the data is arranged in ascending order: $x_1 < x_2 < . . . < x_N$\n",
      "\n",
      "\n"
     ]
    },
    {
     "cell_type": "markdown",
     "metadata": {},
     "source": [
      "<hr>\n",
      "\n",
      "<sup>2</sup> Rorabacher, David B. (1991) \u201c[Statistical Treatment for Rejection of Deviant Values: Critical Values of Dixon\u2019s\u2018 Q\u2019 Parameter and Related Subrange Ratios at the 95% Confidence Level.](http://pubs.acs.org/doi/pdf/10.1021/ac00002a010)\u201d Analytical Chemistry 63, no. 2 (1991): 139\u201346.\n"
     ]
    },
    {
     "cell_type": "markdown",
     "metadata": {},
     "source": [
      "<sup>3</sup> W.J. Dixon: [\"Processing data for outliers Reference\"](http://webspace.ship.edu/pgmarr/Geo441/Readings/Dixon%201953%20-%20Processing%20Data%20for%20Outliers.pdf): J. Biometrics 9 (1953) 74-89"
     ]
    },
    {
     "cell_type": "markdown",
     "metadata": {},
     "source": [
      "<hr>"
     ]
    },
    {
     "cell_type": "markdown",
     "metadata": {},
     "source": [
      "<br>\n",
      "<br>"
     ]
    },
    {
     "cell_type": "markdown",
     "metadata": {},
     "source": [
      "<a id='step3'></a>"
     ]
    },
    {
     "cell_type": "heading",
     "level": 3,
     "metadata": {},
     "source": [
      "3) Compare calculated $Q_{exp}$ to the tabulated critical Q-value $Q_{crit}$"
     ]
    },
    {
     "cell_type": "markdown",
     "metadata": {},
     "source": [
      "[[back to top]](#Sections)"
     ]
    },
    {
     "cell_type": "markdown",
     "metadata": {},
     "source": [
      "\n",
      "\n",
      "In the next step, we will compare the calculated $Q_{exp}$ value to the to the tabulated critical Q-value $Q_{crit}$ for a chosen confidence interval.  \n",
      "If the calculated Q-value for a particular observation is larger than the critical Q-value ($Q_{exp}$ > $Q_{crit}$), this observation is considered to be an outlier according to the Q-test.\n",
      "\n"
     ]
    },
    {
     "cell_type": "markdown",
     "metadata": {},
     "source": [
      "**r<sub>10</sub> Critical values for Dixon's two-tailored Q-Test for 3 different confidence levels**\n",
      "\n",
      "| N  | Q90%  | Q95%  | Q99%  |\n",
      "|----|-------|-------|-------|\n",
      "| 3  | 0.941 | 0.97  | 0.994 |\n",
      "| 4  | 0.765 | 0.829 | 0.926 |\n",
      "| 5  | 0.642 | 0.71  | 0.821 |\n",
      "| 6  | 0.56  | 0.625 | 0.74  |\n",
      "| 7  | 0.507 | 0.568 | 0.68  |\n",
      "| 8  | 0.468 | 0.526 | 0.634 |\n",
      "| 9  | 0.437 | 0.493 | 0.598 |\n",
      "| 10 | 0.412 | 0.466 | 0.568 |\n",
      "| 11 | 0.392 | 0.444 | 0.542 |\n",
      "| 12 | 0.376 | 0.426 | 0.522 |\n",
      "| 13 | 0.361 | 0.41  | 0.503 |\n",
      "| 14 | 0.349 | 0.396 | 0.488 |\n",
      "| 15 | 0.338 | 0.384 | 0.475 |\n",
      "| 16 | 0.329 | 0.374 | 0.463 |\n",
      "| 17 | 0.32  | 0.365 | 0.452 |\n",
      "| 18 | 0.313 | 0.356 | 0.442 |\n",
      "| 19 | 0.306 | 0.349 | 0.433 |\n",
      "| 20 | 0.3   | 0.342 | 0.425 |\n",
      "| 21 | 0.295 | 0.337 | 0.418 |\n",
      "| 22 | 0.29  | 0.331 | 0.411 |\n",
      "| 23 | 0.285 | 0.326 | 0.404 |\n",
      "| 24 | 0.281 | 0.321 | 0.399 |\n",
      "| 25 | 0.277 | 0.317 | 0.393 |\n",
      "| 26 | 0.273 | 0.312 | 0.388 |\n",
      "| 27 | 0.269 | 0.308 | 0.384 |\n",
      "| 28 | 0.266 | 0.305 | 0.38  |\n",
      "| 29 | 0.263 | 0.301 | 0.376 |\n",
      "| 30 | 0.26  | 0.29  | 0.372 |\n",
      "\n"
     ]
    },
    {
     "cell_type": "markdown",
     "metadata": {},
     "source": [
      "<br>\n",
      "<br>"
     ]
    },
    {
     "cell_type": "markdown",
     "metadata": {},
     "source": [
      "<a id='step4'></a>"
     ]
    },
    {
     "cell_type": "heading",
     "level": 3,
     "metadata": {},
     "source": [
      "4) Example"
     ]
    },
    {
     "cell_type": "markdown",
     "metadata": {},
     "source": [
      "[[back to top]](#Sections)"
     ]
    },
    {
     "cell_type": "markdown",
     "metadata": {},
     "source": [
      "Let's consider the following sample consisting of 5 observations:\n",
      "\n",
      "0.142, 0.153, 0.135, 0.002, 0.175\n",
      "\n",
      "- First, we sort it in ascending order: \n",
      "0.002, 0.135, 0.142, 0.153, 0.175\n",
      "\n",
      "- Next, we calculate the Q-value:\n",
      "\n",
      "\\begin{equation} Q = \\frac{0.135 - 0.002}{0.175-0.002} \\approx 0.7687 \\end{equation}\n",
      "\n",
      "- Now, we look up the critical value for n=5 for a confidence level 95% in the Q-table $\\Rightarrow 0.71$   \n",
      "and we conclude that 0.002 (since 0.7687 > 0.71), that the observation 0.002 is an outlier at a confidence level of 95% according to Dixon's Q-test."
     ]
    },
    {
     "cell_type": "markdown",
     "metadata": {},
     "source": [
      "<br>\n",
      "<br>"
     ]
    },
    {
     "cell_type": "heading",
     "level": 1,
     "metadata": {},
     "source": [
      "Implementation"
     ]
    },
    {
     "cell_type": "markdown",
     "metadata": {},
     "source": [
      "[[back to top]](#Sections)"
     ]
    },
    {
     "cell_type": "markdown",
     "metadata": {},
     "source": [
      "<br>\n",
      "<br>"
     ]
    },
    {
     "cell_type": "heading",
     "level": 3,
     "metadata": {},
     "source": [
      "Building dictionaries for Q-value look-up"
     ]
    },
    {
     "cell_type": "markdown",
     "metadata": {},
     "source": [
      "[[back to top]](#Sections)"
     ]
    },
    {
     "cell_type": "markdown",
     "metadata": {},
     "source": [
      "We will build a simple set of dictionaries for different confidence intervals from the tabulated data in David B. Rorabacher's paper:  \n",
      "Rorabacher, David B. (1991) \u201c[Statistical Treatment for Rejection of Deviant Values: Critical Values of Dixon\u2019s\u2018 Q\u2019 Parameter and Related Subrange Ratios at the 95% Confidence Level.](http://pubs.acs.org/doi/pdf/10.1021/ac00002a010)\u201d Analytical Chemistry 63, no. 2 (1991): 139\u201346.  \n",
      "\n",
      "which we will use to look up the critical Q-values (dictionary values) for different sample sizes (dictionary keys)."
     ]
    },
    {
     "cell_type": "code",
     "collapsed": false,
     "input": [
      "q90 = [0.941, 0.765, 0.642, 0.56, 0.507, 0.468, 0.437, \n",
      "       0.412, 0.392, 0.376, 0.361, 0.349, 0.338, 0.329, \n",
      "       0.32, 0.313, 0.306, 0.3, 0.295, 0.29, 0.285, 0.281, \n",
      "       0.277, 0.273, 0.269, 0.266, 0.263, 0.26\n",
      "      ]\n",
      "\n",
      "q95 = [0.97, 0.829, 0.71, 0.625, 0.568, 0.526, 0.493, 0.466, \n",
      "       0.444, 0.426, 0.41, 0.396, 0.384, 0.374, 0.365, 0.356, \n",
      "       0.349, 0.342, 0.337, 0.331, 0.326, 0.321, 0.317, 0.312, \n",
      "       0.308, 0.305, 0.301, 0.29\n",
      "      ]\n",
      "\n",
      "q99 = [0.994, 0.926, 0.821, 0.74, 0.68, 0.634, 0.598, 0.568, \n",
      "       0.542, 0.522, 0.503, 0.488, 0.475, 0.463, 0.452, 0.442, \n",
      "       0.433, 0.425, 0.418, 0.411, 0.404, 0.399, 0.393, 0.388, \n",
      "       0.384, 0.38, 0.376, 0.372\n",
      "       ]\n",
      "\n",
      "Q90 = {n:q for n,q in zip(range(3,len(q90)+1), q90)}\n",
      "Q95 = {n:q for n,q in zip(range(3,len(q95)+1), q95)}\n",
      "Q99 = {n:q for n,q in zip(range(3,len(q99)+1), q99)}"
     ],
     "language": "python",
     "metadata": {},
     "outputs": [],
     "prompt_number": 1
    },
    {
     "cell_type": "markdown",
     "metadata": {},
     "source": [
      "<br>\n",
      "<br>"
     ]
    },
    {
     "cell_type": "heading",
     "level": 3,
     "metadata": {},
     "source": [
      "Implementing a Dixon Q-test Function"
     ]
    },
    {
     "cell_type": "markdown",
     "metadata": {},
     "source": [
      "[[back to top]](#Sections)"
     ]
    },
    {
     "cell_type": "markdown",
     "metadata": {},
     "source": [
      "Below, I wrote some simple Python code to test one data row for Dixon Q-test outliers:"
     ]
    },
    {
     "cell_type": "code",
     "collapsed": false,
     "input": [
      "def dixon_test(data, left=True, right=True, q_dict=Q95):\n",
      "    \"\"\"\n",
      "    Keyword arguments:\n",
      "        data = A ordered or unordered list of data points (int or float).\n",
      "        left = Q-test of minimum value in the ordered list if True.\n",
      "        right = Q-test of maximum value in the ordered list if True.\n",
      "        q_dict = A dictionary of Q-values for a given confidence level,\n",
      "            where the dict. keys are sample sizes N, and the associated values\n",
      "            are the corresponding critical Q values. E.g.,\n",
      "            {3: 0.97, 4: 0.829, 5: 0.71, 6: 0.625, ...}\n",
      "            \n",
      "    Returns a list of 2 values for the outliers, or None.\n",
      "    E.g.,\n",
      "       for [1,1,1] -> [None, None]\n",
      "       for [5,1,1] -> [None, 5]\n",
      "       for [5,1,5] -> [1, None]\n",
      "    \n",
      "    \"\"\"\n",
      "    assert(left or right), 'At least one of the variables, `left` or `right`, must be True.'\n",
      "    assert(len(data) >= 3), 'At least 3 data points are required'\n",
      "    assert(len(data) <= max(q_dict.keys())), 'Sample size too large'\n",
      "    \n",
      "    sdata = sorted(data)\n",
      "    Q_mindiff, Q_maxdiff = (0,0), (0,0)\n",
      "    \n",
      "    if left:\n",
      "        Q_min = (sdata[1] - sdata[0]) \n",
      "        try:\n",
      "            Q_min /= (sdata[-1] - sdata[0])\n",
      "        except ZeroDivisionError:\n",
      "            pass\n",
      "        Q_mindiff = (Q_min - q_dict[len(data)], sdata[0])\n",
      "        \n",
      "    if right:\n",
      "        Q_max = abs((sdata[-2] - sdata[-1]))\n",
      "        try:\n",
      "            Q_max /= abs((sdata[0] - sdata[-1]))\n",
      "        except ZeroDivisionError:\n",
      "            pass\n",
      "        Q_maxdiff = (Q_max - q_dict[len(data)], sdata[-1])\n",
      "\n",
      "    if not Q_mindiff[0] > 0 and not Q_maxdiff[0] > 0:\n",
      "        outliers = [None, None]\n",
      "    \n",
      "    elif Q_mindiff[0] == Q_maxdiff[0]:\n",
      "        outliers = [Q_mindiff[1], Q_maxdiff[1]]\n",
      "        \n",
      "    elif Q_mindiff[0] > Q_maxdiff[0]:\n",
      "        outliers = [Q_mindiff[1], None]\n",
      "    \n",
      "    else:\n",
      "        outliers = [None, Q_maxdiff[1]]\n",
      "    \n",
      "    return outliers"
     ],
     "language": "python",
     "metadata": {},
     "outputs": [],
     "prompt_number": 2
    },
    {
     "cell_type": "markdown",
     "metadata": {},
     "source": [
      "<br>\n",
      "<br>"
     ]
    },
    {
     "cell_type": "heading",
     "level": 3,
     "metadata": {},
     "source": [
      "Assertion Tests"
     ]
    },
    {
     "cell_type": "markdown",
     "metadata": {},
     "source": [
      "[[back to top]](#Sections)"
     ]
    },
    {
     "cell_type": "markdown",
     "metadata": {},
     "source": [
      "Some simple assertion tests to make sure that the Dixon Q-test function behaves as expected/desired."
     ]
    },
    {
     "cell_type": "code",
     "collapsed": false,
     "input": [
      "test_data1 = [0.142, 0.153, 0.135, 0.002, 0.175]\n",
      "test_data2 = [0.542, 0.153, 0.135, 0.002, 0.175]\n",
      "\n",
      "assert(dixon_test(test_data1) == [0.002, None]), 'expect [0.002, None]'\n",
      "assert(dixon_test(test_data1, right=False) == [0.002, None]), 'expect [0.002, None]'\n",
      "assert(dixon_test(test_data2) == [None, None]), 'expect [None, None]'\n",
      "assert(dixon_test(test_data2, q_dict=Q90) == [None, 0.542]), 'expect [None, 0.542]'\n",
      "\n",
      "print('ok')"
     ],
     "language": "python",
     "metadata": {},
     "outputs": [
      {
       "output_type": "stream",
       "stream": "stdout",
       "text": [
        "ok\n"
       ]
      }
     ],
     "prompt_number": 3
    },
    {
     "cell_type": "markdown",
     "metadata": {},
     "source": [
      "<br>\n",
      "<br>"
     ]
    },
    {
     "cell_type": "heading",
     "level": 1,
     "metadata": {},
     "source": [
      "Example application"
     ]
    },
    {
     "cell_type": "markdown",
     "metadata": {},
     "source": [
      "[[back to top]](#Sections)"
     ]
    },
    {
     "cell_type": "markdown",
     "metadata": {},
     "source": [
      "Below, I want to go through a naive example for our Dixon Q-test function using an example CSV file.  \n",
      "In \"real\" application I would prefer `NumPy` and/or `pandas`, however for this simple case the in-built Python `csv` library should suffice."
     ]
    },
    {
     "cell_type": "markdown",
     "metadata": {},
     "source": [
      "<br>\n",
      "<br>"
     ]
    },
    {
     "cell_type": "markdown",
     "metadata": {},
     "source": [
      "Below the example CSV file is shown that we are going to read in:"
     ]
    },
    {
     "cell_type": "code",
     "collapsed": false,
     "input": [
      "%%writefile ../../data/dixon_test_in.csv\n",
      ",x1,x2,x3,x4,x5\n",
      "id1,0.95,-0.65,0.6,0.82,NaN\n",
      "id2,2.08,NaN,-1.43,0.38,NaN\n",
      "id3,-0.46,NaN,-1.25,-2.62,0.22\n",
      "id4,0.24,1.88,-0.49,-0.73,-0.49\n",
      "id5,-1.65,2.1,-0.09,NaN,0.8\n",
      "id6,-0.44,0.93,0.19,-4.36,-0.88\n",
      "id7,0.36,-0.47,NaN,0.4,2.12\n",
      "id8,1.29,-0.48,-0.6,-0.38,0.27\n",
      "id9,-1.25,-1.35,1.13,1.7,-0.81\n",
      "id10,0.04,1.98,NaN,NaN,NaN"
     ],
     "language": "python",
     "metadata": {},
     "outputs": [
      {
       "output_type": "stream",
       "stream": "stdout",
       "text": [
        "Overwriting ../../data/dixon_test_in.csv\n"
       ]
      }
     ],
     "prompt_number": 4
    },
    {
     "cell_type": "code",
     "collapsed": false,
     "input": [
      "import csv\n",
      "\n",
      "def csv_to_list(csv_file, delimiter=','):\n",
      "    \"\"\" \n",
      "    Reads in a CSV file and returns the contents as list,\n",
      "    where every row is stored as a sublist, and each element\n",
      "    in the sublist represents 1 cell in the table.\n",
      "    \n",
      "    \"\"\"\n",
      "    with open(csv_file, 'r') as csv_con:\n",
      "        reader = csv.reader(csv_con, delimiter=delimiter)\n",
      "        return list(reader)\n",
      "    \n",
      "    \n",
      "def print_csv(csv_content):\n",
      "    \"\"\" Prints CSV file to standard output.\"\"\"\n",
      "    print(50*'-')\n",
      "    for row in csv_content:\n",
      "        row = [str(e) for e in row]\n",
      "        print('\\t'.join(row))\n",
      "    print(50*'-')\n",
      "\n",
      "    \n",
      "def convert_cells_to_floats(csv_cont):\n",
      "    \"\"\" \n",
      "    Converts cells to floats if possible\n",
      "    (modifies input CSV content list).\n",
      "    \n",
      "    \"\"\"\n",
      "    for row in range(len(csv_cont)):\n",
      "        for cell in range(len(csv_cont[row])):\n",
      "            try:\n",
      "                csv_cont[row][cell] = float(csv_cont[row][cell])\n",
      "            except ValueError:\n",
      "                pass "
     ],
     "language": "python",
     "metadata": {},
     "outputs": [],
     "prompt_number": 5
    },
    {
     "cell_type": "code",
     "collapsed": false,
     "input": [
      "csv_cont = csv_to_list('../../data/dixon_test_in.csv')\n",
      "convert_cells_to_floats(csv_cont)\n",
      "print_csv(csv_cont)"
     ],
     "language": "python",
     "metadata": {},
     "outputs": [
      {
       "output_type": "stream",
       "stream": "stdout",
       "text": [
        "--------------------------------------------------\n",
        "\tx1\tx2\tx3\tx4\tx5\n",
        "id1\t0.95\t-0.65\t0.6\t0.82\tnan\n",
        "id2\t2.08\tnan\t-1.43\t0.38\tnan\n",
        "id3\t-0.46\tnan\t-1.25\t-2.62\t0.22\n",
        "id4\t0.24\t1.88\t-0.49\t-0.73\t-0.49\n",
        "id5\t-1.65\t2.1\t-0.09\tnan\t0.8\n",
        "id6\t-0.44\t0.93\t0.19\t-4.36\t-0.88\n",
        "id7\t0.36\t-0.47\tnan\t0.4\t2.12\n",
        "id8\t1.29\t-0.48\t-0.6\t-0.38\t0.27\n",
        "id9\t-1.25\t-1.35\t1.13\t1.7\t-0.81\n",
        "id10\t0.04\t1.98\tnan\tnan\tnan\n",
        "--------------------------------------------------\n"
       ]
      }
     ],
     "prompt_number": 6
    },
    {
     "cell_type": "markdown",
     "metadata": {},
     "source": [
      "<br>\n",
      "<br>"
     ]
    },
    {
     "cell_type": "markdown",
     "metadata": {},
     "source": [
      "Now, let us add a new `outlier` column and apply the Dixon Q-test function to our data set."
     ]
    },
    {
     "cell_type": "code",
     "collapsed": false,
     "input": [
      "import math\n",
      "\n",
      "csv_cont[0].append('outlier')\n",
      "\n",
      "for row in csv_cont[1:]: # skips header\n",
      "    nan_removed = [i for i in row[1:] if not math.isnan(i)]\n",
      "    if len(nan_removed) >= 3:\n",
      "        row.append(dixon_test(nan_removed, left=True, right=True, q_dict=Q90))\n",
      "    else:\n",
      "        row.append('NaN')"
     ],
     "language": "python",
     "metadata": {},
     "outputs": [],
     "prompt_number": 7
    },
    {
     "cell_type": "code",
     "collapsed": false,
     "input": [
      "print_csv(csv_cont)"
     ],
     "language": "python",
     "metadata": {},
     "outputs": [
      {
       "output_type": "stream",
       "stream": "stdout",
       "text": [
        "--------------------------------------------------\n",
        "\tx1\tx2\tx3\tx4\tx5\toutlier\n",
        "id1\t0.95\t-0.65\t0.6\t0.82\tnan\t[-0.65, None]\n",
        "id2\t2.08\tnan\t-1.43\t0.38\tnan\t[None, None]\n",
        "id3\t-0.46\tnan\t-1.25\t-2.62\t0.22\t[None, None]\n",
        "id4\t0.24\t1.88\t-0.49\t-0.73\t-0.49\t[None, None]\n",
        "id5\t-1.65\t2.1\t-0.09\tnan\t0.8\t[None, None]\n",
        "id6\t-0.44\t0.93\t0.19\t-4.36\t-0.88\t[-4.36, None]\n",
        "id7\t0.36\t-0.47\tnan\t0.4\t2.12\t[None, None]\n",
        "id8\t1.29\t-0.48\t-0.6\t-0.38\t0.27\t[None, None]\n",
        "id9\t-1.25\t-1.35\t1.13\t1.7\t-0.81\t[None, None]\n",
        "id10\t0.04\t1.98\tnan\tnan\tnan\tNaN\n",
        "--------------------------------------------------\n"
       ]
      }
     ],
     "prompt_number": 8
    },
    {
     "cell_type": "markdown",
     "metadata": {},
     "source": [
      "As we can see in the table above, we have 2 potential outliers in our data set."
     ]
    },
    {
     "cell_type": "markdown",
     "metadata": {},
     "source": [
      "Finally, we let us write the results to a new CSV file for future reference:"
     ]
    },
    {
     "cell_type": "code",
     "collapsed": false,
     "input": [
      "def write_csv(dest, csv_cont):\n",
      "    \"\"\" Writes a comma-delimited CSV file. \"\"\"\n",
      "\n",
      "    with open(dest, 'w') as out_file:\n",
      "        writer = csv.writer(out_file, delimiter=',')\n",
      "        for row in csv_cont:\n",
      "            writer.writerow(row)\n",
      "            \n",
      "write_csv('../../data/dixon_test_out.csv', csv_cont)"
     ],
     "language": "python",
     "metadata": {},
     "outputs": [],
     "prompt_number": 9
    },
    {
     "cell_type": "markdown",
     "metadata": {},
     "source": [
      "<br>\n",
      "<br>"
     ]
    },
    {
     "cell_type": "heading",
     "level": 1,
     "metadata": {},
     "source": [
      "Plotting the Data"
     ]
    },
    {
     "cell_type": "markdown",
     "metadata": {},
     "source": [
      "[[back to top]](#Sections)"
     ]
    },
    {
     "cell_type": "markdown",
     "metadata": {},
     "source": [
      "To get a visual impression of how our data looks like, let us make some simple plots."
     ]
    },
    {
     "cell_type": "markdown",
     "metadata": {},
     "source": [
      "<br>\n",
      "<br>"
     ]
    },
    {
     "cell_type": "heading",
     "level": 2,
     "metadata": {},
     "source": [
      "Bar plot of the sample means with standard deviation"
     ]
    },
    {
     "cell_type": "markdown",
     "metadata": {},
     "source": [
      "[[back to top]](#Sections)"
     ]
    },
    {
     "cell_type": "markdown",
     "metadata": {},
     "source": [
      "<br>\n",
      "<br>"
     ]
    },
    {
     "cell_type": "markdown",
     "metadata": {},
     "source": [
      "First, let's create a bar plot with standard deviation, since such bar plots with standard deviation or standard error bars are probably the most common plots in any field. Although it is not always approapriate it is certainly the kind of data visualization we are most familiar with - due to the frequent exposure when reading scientific research articles."
     ]
    },
    {
     "cell_type": "code",
     "collapsed": false,
     "input": [
      "%matplotlib inline"
     ],
     "language": "python",
     "metadata": {},
     "outputs": [],
     "prompt_number": 10
    },
    {
     "cell_type": "code",
     "collapsed": false,
     "input": [
      "import numpy as np\n",
      "from matplotlib import pyplot as plt\n",
      "\n",
      "all_means = [np.nanmean(row[1:6]) for row in csv_cont[1:]]\n",
      "all_stddevs = [np.nanstd(row[1:6]) for row in csv_cont[1:]]\n",
      "\n",
      "fig = plt.figure(figsize=(8,6))\n",
      "\n",
      "y_pos = np.arange(len(csv_cont[1:]))\n",
      "y_pos = [x for x in y_pos]\n",
      "plt.yticks(y_pos, [row[0] for row in csv_cont[1:]], fontsize=10)\n",
      "plt.xlabel('measurement x')\n",
      "t = plt.title('Bar plot with standard deviation')\n",
      "\n",
      "plt.grid()\n",
      "plt.barh(y_pos, all_means, xerr=all_stddevs, align='center', alpha=0.4, color='g')\n",
      "\n",
      "plt.show()"
     ],
     "language": "python",
     "metadata": {},
     "outputs": [
      {
       "metadata": {},
       "output_type": "display_data",
       "png": "[encoded data removed]",
       "text": [
        "<matplotlib.figure.Figure at 0x1052fcdd8>"
       ]
      }
     ],
     "prompt_number": 12
    },
    {
     "cell_type": "markdown",
     "metadata": {},
     "source": [
      "As we would expect, basically every sample has a very (relatively) large standard deviation. However, we can't derive any detail about a possible cause for this large deviation: whether it is just due to 1 outlier, or if the whole data widely spread in general."
     ]
    },
    {
     "cell_type": "markdown",
     "metadata": {},
     "source": [
      "<br>\n",
      "<br>"
     ]
    },
    {
     "cell_type": "heading",
     "level": 2,
     "metadata": {},
     "source": [
      "Boxplot"
     ]
    },
    {
     "cell_type": "markdown",
     "metadata": {},
     "source": [
      "[[back to top]](#Sections)"
     ]
    },
    {
     "cell_type": "markdown",
     "metadata": {},
     "source": [
      "A more useful plot in my opinion is Tukey's boxplot<sup> 4</sup>. Boxplots are in facts one of my preferred approaches to quickly and visually indicate outliers in a Gaussian data set. However, also boxplots have to be used with real caution and might also not very informative for small sample sizes.\n",
      "\n",
      "\n",
      "\n",
      "<sup> 4</sup> Robert McGill, John W. Tukey and Wayne A. Larsen: \"[The American Statistician](http://www.jstor.org/discover/10.2307/2683468?uid=3739256&uid=2&uid=4&sid=21104147331297)\"\n",
      "Vol. 32, No. 1 (Feb., 1978), pp. 12-16"
     ]
    },
    {
     "cell_type": "markdown",
     "metadata": {},
     "source": [
      "![](https://raw.githubusercontent.com/rasbt/algorithms_in_ipython_notebooks/master/images/boxplot.png)"
     ]
    },
    {
     "cell_type": "code",
     "collapsed": false,
     "input": [
      "csv_nonan = [[x for x in row[1:6] if not math.isnan(x)] for row in csv_cont[1:]]\n",
      "fig = plt.figure(figsize=(8,6))\n",
      "plt.boxplot(csv_nonan,0,'rs',0)\n",
      "plt.yticks([y+1 for y in y_pos], [row[0] for row in csv_cont[1:]])\n",
      "plt.xlabel('measurement x')\n",
      "t = plt.title('Box plot')\n",
      "plt.show()"
     ],
     "language": "python",
     "metadata": {},
     "outputs": [
      {
       "metadata": {},
       "output_type": "display_data",
       "png": "[encoded data removed]",
       "text": [
        "<matplotlib.figure.Figure at 0x1052fc4e0>"
       ]
      }
     ],
     "prompt_number": 13
    },
    {
     "cell_type": "markdown",
     "metadata": {},
     "source": [
      "The red squares indicate the outliers here. Quite interestingly, both outliers for the samples \"id6\" and \"id1\" where also picked up in our previous Dixon Q-test. However, the outliers in \"id4\" and \"id7\" were not indicated as outliers by Dixon's outlier test."
     ]
    },
    {
     "cell_type": "markdown",
     "metadata": {},
     "source": [
      "**I really don't want to draw any conclusion about which approach is right or wrong here, since in my opinion, drawing any conclusion from a data set that is based on such a small number of observations simply just doesn't make sense!**  \n",
      "\n",
      "So you may wonder why I wasted your time if you read this article up to this point? Since Dixon's Q-test is still quite popular in certain scientific fields (e.g., chemistry) that it is important to understand its principles in order to draw your own conclusion of the presented research data that you might stumble upon in research articles or scientific talks."
     ]
    },
    {
     "cell_type": "markdown",
     "metadata": {},
     "source": [
      "<br>\n",
      "<br>"
     ]
    },
    {
     "cell_type": "markdown",
     "metadata": {},
     "source": [
      "<br>\n",
      "<br>"
     ]
    }
   ],
   "metadata": {}
  }
 ]
}