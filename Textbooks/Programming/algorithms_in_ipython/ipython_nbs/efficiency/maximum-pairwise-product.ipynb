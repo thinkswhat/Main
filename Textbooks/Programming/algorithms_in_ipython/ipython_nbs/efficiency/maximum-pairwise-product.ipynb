{
 "cells": [
  {
   "cell_type": "code",
   "execution_count": 1,
   "metadata": {
    "collapsed": false
   },
   "outputs": [
    {
     "name": "stdout",
     "output_type": "stream",
     "text": [
      "Sebastian Raschka \n",
      "last updated: 2016-05-31 \n",
      "\n",
      "CPython 3.5.1\n",
      "IPython 4.2.0\n"
     ]
    }
   ],
   "source": [
    "%load_ext watermark\n",
    "%watermark -a 'Sebastian Raschka' -u -d -v"
   ]
  },
  {
   "cell_type": "markdown",
   "metadata": {},
   "source": [
    "# Finding the Maximum Pairwise Product"
   ]
  },
  {
   "cell_type": "markdown",
   "metadata": {},
   "source": [
    "Our task is to simply fine the largest product between 2 different numbers in an array. For example, given the array\n",
    "\n",
    "a = [7, 1, 2, 8, 1, 3],\n",
    "\n",
    "the maximum product between a pair of numbers would be 7*8 = 56.\n",
    "For simplicity, we will only consider arrays consisting of positive numbers; however, the same concepts applies to negative valued arrays. Also, to keep the code simple, we assume that the array consists of at least 2 numbers."
   ]
  },
  {
   "cell_type": "markdown",
   "metadata": {},
   "source": [
    "First, let us create 2 arrays, a small and a large one that we will use for testing later."
   ]
  },
  {
   "cell_type": "code",
   "execution_count": 2,
   "metadata": {
    "collapsed": false
   },
   "outputs": [],
   "source": [
    "import random\n",
    "\n",
    "random.seed(1)\n",
    "\n",
    "a = [7, 1, 2, 8, 1, 3]\n",
    "rnd_lst = random.sample(range(0, 10000000), 1000)"
   ]
  },
  {
   "cell_type": "markdown",
   "metadata": {},
   "source": [
    "The probably simplest implementation may be to compute the product of each pair in this list while keeping track of the largest product as we traverse through the list.\n",
    "Here, we need to use two-nested for-loops. The outer for-loop traverses through the list indexes {*i ,..., n*}, and the inner loop traverses through the list indeces {*i+1, ..., n*}. Thus, we have an algorithm with quadratic complexity, $O(n^2)$."
   ]
  },
  {
   "cell_type": "code",
   "execution_count": 3,
   "metadata": {
    "collapsed": false
   },
   "outputs": [
    {
     "name": "stdout",
     "output_type": "stream",
     "text": [
      "56\n",
      "99739554693120\n"
     ]
    }
   ],
   "source": [
    "import sys\n",
    "\n",
    "def max_pairprod_1(ary):\n",
    "    n = len(ary)\n",
    "    max_prod = -sys.float_info.max\n",
    "    \n",
    "    for i in range(0, n):\n",
    "        for j in range(i + 1, n):\n",
    "            prod = ary[i] * ary[j]\n",
    "            if prod > max_prod:\n",
    "                max_prod = prod\n",
    "                \n",
    "    return max_prod\n",
    "\n",
    "print(max_pairprod_1(ary=a))\n",
    "print(max_pairprod_1(ary=rnd_lst))"
   ]
  },
  {
   "cell_type": "markdown",
   "metadata": {},
   "source": [
    "Now, let's think about improving this solution in terms of computational efficiency. One solution would be to sort the list so that we just need to return the first (or last) 2 numbers and compute their product. This would be a substantial improvement over our previous solution, since efficient sorting algorithms have a time complexity of $O(n\\;log(n))$. However, we can do better ...\n",
    "\n",
    "If our array consists of positive numbers only, we just need to traverse through the array once and keep track of the 2 largest numbers in the array. (If the array contains negative values as well, we also want to track the 2 most negative numbers, since their product will be positive number as well.)"
   ]
  },
  {
   "cell_type": "code",
   "execution_count": 4,
   "metadata": {
    "collapsed": false
   },
   "outputs": [
    {
     "name": "stdout",
     "output_type": "stream",
     "text": [
      "56\n",
      "99739554693120\n"
     ]
    }
   ],
   "source": [
    "import sys\n",
    "\n",
    "def max_pairprod_2(ary):\n",
    "    pos_1 = -sys.float_info.max\n",
    "    pos_2 = -sys.float_info.max\n",
    "    \n",
    "    for i in range(0, len(ary)):\n",
    "        if ary[i] > pos_1:\n",
    "            tmp = pos_1\n",
    "            pos_1 = ary[i]\n",
    "            if tmp > pos_2:\n",
    "                pos_2 = tmp\n",
    "        elif ary[i] > pos_2:\n",
    "            pos_2 = ary[i]\n",
    "\n",
    "    return pos_1 * pos_2\n",
    "\n",
    "print(max_pairprod_2(ary=a))\n",
    "print(max_pairprod_2(ary=rnd_lst))"
   ]
  },
  {
   "cell_type": "markdown",
   "metadata": {},
   "source": [
    "Although our second implementation contains more if-else statements, which may come with some additional overhead, we now find the maximum pairwise product in linear time, $O(n)$, which is a big improvement over our previous $O(n^2)$ algorithm. Let's do a quick benchmark using the `%timeit` magic:"
   ]
  },
  {
   "cell_type": "code",
   "execution_count": 5,
   "metadata": {
    "collapsed": false
   },
   "outputs": [
    {
     "name": "stdout",
     "output_type": "stream",
     "text": [
      "1000 loops, best of 3: 98.2 ms per loop\n"
     ]
    }
   ],
   "source": [
    "%timeit -n 1000 -r 3 max_pairprod_1(ary=rnd_lst)"
   ]
  },
  {
   "cell_type": "code",
   "execution_count": 6,
   "metadata": {
    "collapsed": false
   },
   "outputs": [
    {
     "name": "stdout",
     "output_type": "stream",
     "text": [
      "1000 loops, best of 3: 199 µs per loop\n"
     ]
    }
   ],
   "source": [
    "%timeit -n 1000 -r 3 max_pairprod_2(ary=rnd_lst) "
   ]
  },
  {
   "cell_type": "markdown",
   "metadata": {},
   "source": [
    "Finally, to get a better sence of the **order of the function**, big O, let us repeat the benchmark for different array sizes:"
   ]
  },
  {
   "cell_type": "code",
   "execution_count": 13,
   "metadata": {
    "collapsed": false
   },
   "outputs": [],
   "source": [
    "import timeit\n",
    "\n",
    "funcs = ['max_pairprod_1', 'max_pairprod_2']\n",
    "orders_n = [10**n for n in range(1, 5)]\n",
    "times_n = {f:[] for f in funcs}\n",
    "\n",
    "for n in orders_n:\n",
    "    rnd_lst = random.sample(range(0, 10**6), n)\n",
    "    for f in funcs:\n",
    "        times_n[f].append(min(timeit.Timer('%s(rnd_lst)' % f, \n",
    "                'from __main__ import %s, rnd_lst' % f)\n",
    "                    .repeat(repeat=3, number=5)))"
   ]
  },
  {
   "cell_type": "code",
   "execution_count": 20,
   "metadata": {
    "collapsed": true
   },
   "outputs": [],
   "source": [
    "%matplotlib inline\n",
    "import matplotlib.pyplot as plt\n",
    "\n",
    "def plot_timing():\n",
    "\n",
    "    labels = [('max_pairprod_1', 'max_pairprod_1'), \n",
    "              ('max_pairprod_2', 'max_pairprod_2')]\n",
    "\n",
    "    plt.rcParams.update({'font.size': 12})\n",
    "\n",
    "    fig = plt.figure(figsize=(10, 8))\n",
    "    for lb in labels:\n",
    "        plt.plot(orders_n, times_n[lb[0]], \n",
    "             alpha=0.5, label=lb[1], marker='o', lw=3)\n",
    "    plt.xlabel('sample size n')\n",
    "    plt.ylabel('time per computation in milliseconds [ms]')\n",
    "    plt.legend(loc=2)\n",
    "    plt.ylim([-1, 60])\n",
    "    plt.grid()\n",
    "    plt.show()"
   ]
  },
  {
   "cell_type": "code",
   "execution_count": 21,
   "metadata": {
    "collapsed": false
   },
   "outputs": [
    {
     "data": {
      "image/png": "[encoded data removed]",
      "text/plain": [
       "<matplotlib.figure.Figure at 0x10c700748>"
      ]
     },
     "metadata": {},
     "output_type": "display_data"
    }
   ],
   "source": [
    "plot_timing()"
   ]
  }
 ],
 "metadata": {
  "kernelspec": {
   "display_name": "Python 3",
   "language": "python",
   "name": "python3"
  },
  "language_info": {
   "codemirror_mode": {
    "name": "ipython",
    "version": 3
   },
   "file_extension": ".py",
   "mimetype": "text/x-python",
   "name": "python",
   "nbconvert_exporter": "python",
   "pygments_lexer": "ipython3",
   "version": "3.5.1"
  }
 },
 "nbformat": 4,
 "nbformat_minor": 0
}
